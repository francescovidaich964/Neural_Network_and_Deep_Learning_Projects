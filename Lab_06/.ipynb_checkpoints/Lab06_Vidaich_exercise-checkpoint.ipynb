{
 "cells": [
  {
   "cell_type": "markdown",
   "metadata": {},
   "source": [
    "# Reinforcement Learning\n",
    "Use the already provided environment (that can be modified) to train an agent to reach the goal. The initial environment is given by a 10x10 empty grid where the agent start from a random position and has to reach a fixed goal position.\n",
    "\n",
    "Let's start with this environment, we will train the agent with many epochs"
   ]
  },
  {
   "cell_type": "code",
   "execution_count": 1,
   "metadata": {},
   "outputs": [],
   "source": [
    "import dill\n",
    "import numpy as np\n",
    "import agent\n",
    "import environment\n",
    "import training\n",
    "\n",
    "episodes = 5000         # number of training episodes\n",
    "episode_length = 50     # maximum episode length\n",
    "x = 10                  # horizontal size of the box\n",
    "y = 10                  # vertical size of the box\n",
    "goal = [1, 1]           # objective point\n",
    "discount = 0.9          # exponential discount factor\n",
    "softmax = False         # set to true to use Softmax policy\n",
    "sarsa = False           # set to true to use the Sarsa algorithm\n",
    "\n",
    "ep_per_epoch = 100      # print results nd store model each 'ep_per_epoch' episodes\n",
    "initial = [8,8]          # Initial state (set None to have random ones)"
   ]
  },
  {
   "cell_type": "code",
   "execution_count": 2,
   "metadata": {
    "scrolled": true
   },
   "outputs": [
    {
     "name": "stdout",
     "output_type": "stream",
     "text": [
      "Episodes 0-100: Mean of single episode average rewards is -0.1252\n",
      "Episodes 100-200: Mean of single episode average rewards is -0.1062\n",
      "Episodes 200-300: Mean of single episode average rewards is -0.1102\n",
      "Episodes 300-400: Mean of single episode average rewards is -0.1036\n",
      "Episodes 400-500: Mean of single episode average rewards is -0.104\n",
      "Episodes 500-600: Mean of single episode average rewards is -0.0968\n",
      "Episodes 600-700: Mean of single episode average rewards is -0.0988\n",
      "Episodes 700-800: Mean of single episode average rewards is -0.0866\n",
      "Episodes 800-900: Mean of single episode average rewards is -0.0792\n",
      "Episodes 900-1000: Mean of single episode average rewards is -0.0626\n",
      "Episodes 1000-1100: Mean of single episode average rewards is -0.0706\n",
      "Episodes 1100-1200: Mean of single episode average rewards is -0.0538\n",
      "Episodes 1200-1300: Mean of single episode average rewards is -0.0576\n",
      "Episodes 1300-1400: Mean of single episode average rewards is -0.0392\n",
      "Episodes 1400-1500: Mean of single episode average rewards is -0.0366\n",
      "Episodes 1500-1600: Mean of single episode average rewards is -0.0306\n",
      "Episodes 1600-1700: Mean of single episode average rewards is -0.0368\n",
      "Episodes 1700-1800: Mean of single episode average rewards is -0.0262\n",
      "Episodes 1800-1900: Mean of single episode average rewards is 0.0046\n",
      "Episodes 1900-2000: Mean of single episode average rewards is -0.0058\n",
      "Episodes 2000-2100: Mean of single episode average rewards is 0.0266\n",
      "Episodes 2100-2200: Mean of single episode average rewards is 0.0324\n",
      "Episodes 2200-2300: Mean of single episode average rewards is 0.0464\n",
      "Episodes 2300-2400: Mean of single episode average rewards is 0.0758\n",
      "Episodes 2400-2500: Mean of single episode average rewards is 0.0658\n",
      "Episodes 2500-2600: Mean of single episode average rewards is 0.079\n",
      "Episodes 2600-2700: Mean of single episode average rewards is 0.1078\n",
      "Episodes 2700-2800: Mean of single episode average rewards is 0.1102\n",
      "Episodes 2800-2900: Mean of single episode average rewards is 0.1332\n",
      "Episodes 2900-3000: Mean of single episode average rewards is 0.1732\n",
      "Episodes 3000-3100: Mean of single episode average rewards is 0.1722\n",
      "Episodes 3100-3200: Mean of single episode average rewards is 0.1858\n",
      "Episodes 3200-3300: Mean of single episode average rewards is 0.2312\n",
      "Episodes 3300-3400: Mean of single episode average rewards is 0.2466\n",
      "Episodes 3400-3500: Mean of single episode average rewards is 0.2356\n",
      "Episodes 3500-3600: Mean of single episode average rewards is 0.2902\n",
      "Episodes 3600-3700: Mean of single episode average rewards is 0.3064\n",
      "Episodes 3700-3800: Mean of single episode average rewards is 0.3376\n",
      "Episodes 3800-3900: Mean of single episode average rewards is 0.3514\n",
      "Episodes 3900-4000: Mean of single episode average rewards is 0.3938\n",
      "Episodes 4000-4100: Mean of single episode average rewards is 0.4146\n",
      "Episodes 4100-4200: Mean of single episode average rewards is 0.4332\n",
      "Episodes 4200-4300: Mean of single episode average rewards is 0.4768\n",
      "Episodes 4300-4400: Mean of single episode average rewards is 0.511\n",
      "Episodes 4400-4500: Mean of single episode average rewards is 0.5358\n",
      "Episodes 4500-4600: Mean of single episode average rewards is 0.55\n",
      "Episodes 4600-4700: Mean of single episode average rewards is 0.573\n",
      "Episodes 4700-4800: Mean of single episode average rewards is 0.6094\n",
      "Episodes 4800-4900: Mean of single episode average rewards is 0.635\n",
      "Episodes 4900-5000: Mean of single episode average rewards is 0.663\n"
     ]
    },
    {
     "data": {
      "text/plain": [
       "array([-0.1252, -0.1062, -0.1102, -0.1036, -0.104 , -0.0968, -0.0988,\n",
       "       -0.0866, -0.0792, -0.0626, -0.0706, -0.0538, -0.0576, -0.0392,\n",
       "       -0.0366, -0.0306, -0.0368, -0.0262,  0.0046, -0.0058,  0.0266,\n",
       "        0.0324,  0.0464,  0.0758,  0.0658,  0.079 ,  0.1078,  0.1102,\n",
       "        0.1332,  0.1732,  0.1722,  0.1858,  0.2312,  0.2466,  0.2356,\n",
       "        0.2902,  0.3064,  0.3376,  0.3514,  0.3938,  0.4146,  0.4332,\n",
       "        0.4768,  0.511 ,  0.5358,  0.55  ,  0.573 ,  0.6094,  0.635 ,\n",
       "        0.663 ])"
      ]
     },
     "execution_count": 2,
     "metadata": {},
     "output_type": "execute_result"
    }
   ],
   "source": [
    "# initialize the agent (grid with 'x*y' states and 5 possible actions)\n",
    "learner = agent.Agent((x * y), 5, discount, max_reward=1, softmax=softmax, sarsa=sarsa)\n",
    "\n",
    "# Train the agent\n",
    "training.train_agent(learner, x, y, initial, goal, episodes, log=True)"
   ]
  },
  {
   "cell_type": "code",
   "execution_count": 4,
   "metadata": {},
   "outputs": [
    {
     "data": {
      "image/png": "[encoded data removed]",
      "text/plain": [
       "<Figure size 432x288 with 2 Axes>"
      ]
     },
     "metadata": {
      "needs_background": "light"
     },
     "output_type": "display_data"
    }
   ],
   "source": [
    "learner.visualize_values(x,y)"
   ]
  },
  {
   "cell_type": "code",
   "execution_count": null,
   "metadata": {},
   "outputs": [],
   "source": []
  }
 ],
 "metadata": {
  "kernelspec": {
   "display_name": "Python 3",
   "language": "python",
   "name": "python3"
  },
  "language_info": {
   "codemirror_mode": {
    "name": "ipython",
    "version": 3
   },
   "file_extension": ".py",
   "mimetype": "text/x-python",
   "name": "python",
   "nbconvert_exporter": "python",
   "pygments_lexer": "ipython3",
   "version": "3.7.3"
  }
 },
 "nbformat": 4,
 "nbformat_minor": 2
}
