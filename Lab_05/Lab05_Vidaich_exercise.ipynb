{
 "cells": [
  {
   "cell_type": "markdown",
   "metadata": {},
   "source": [
    "# Lab05 - Autoencoders for digit reconstruction\n",
    "\n",
    "In this assignment we will build an autoencoder to that will reconstruct digits from in the MNIST datset."
   ]
  },
  {
   "cell_type": "code",
   "execution_count": 1,
   "metadata": {},
   "outputs": [],
   "source": [
    "import os\n",
    "import torch\n",
    "import numpy as np\n",
    "import matplotlib.pyplot as plt\n",
    "import random\n",
    "import time\n",
    "\n",
    "from torch import nn\n",
    "from torch.utils.data import DataLoader\n",
    "from torchvision import transforms\n",
    "from torchvision.datasets import MNIST\n",
    "\n",
    "from tqdm import tqdm\n",
    "\n",
    "# Import myfunctions and classes\n",
    "from autoencoder_structure import Autoencoder\n",
    "import testing_tools\n",
    "\n",
    "### If cuda is available set the device to GPU\n",
    "#if torch.cuda.is_available():\n",
    "#    device = torch.device(\"cuda\")\n",
    "#    torch.set_default_tensor_type(torch.cuda.FloatTensor)\n",
    "#else:\n",
    "#    device = torch.device(\"cpu\")\n",
    "#print('Device:', device)\n",
    "\n",
    "device = torch.device(\"cpu\")"
   ]
  },
  {
   "cell_type": "code",
   "execution_count": 2,
   "metadata": {},
   "outputs": [],
   "source": [
    "train_transform = transforms.Compose([\n",
    "    transforms.ToTensor(),\n",
    "])\n",
    "\n",
    "test_transform = transforms.Compose([\n",
    "    transforms.ToTensor(),\n",
    "])\n",
    "\n",
    "# Load datasets\n",
    "train_dataset = MNIST('../datasets', train=True,  download=True, transform=train_transform)\n",
    "test_dataset  = MNIST('../datasets', train=False, download=True, transform=test_transform)\n",
    "\n",
    "\n",
    "# Define dataloader\n",
    "train_dataloader = DataLoader(train_dataset, batch_size=512, shuffle=True)\n",
    "test_dataloader = DataLoader(test_dataset, batch_size=512, shuffle=False)"
   ]
  },
  {
   "cell_type": "markdown",
   "metadata": {},
   "source": [
    "Plot some sample from the dataset"
   ]
  },
  {
   "cell_type": "code",
   "execution_count": 3,
   "metadata": {},
   "outputs": [
    {
     "data": {
      "image/png": "[encoded data removed]",
      "text/plain": [
       "<Figure size 576x576 with 25 Axes>"
      ]
     },
     "metadata": {},
     "output_type": "display_data"
    }
   ],
   "source": [
    "plt.close('all')\n",
    "fig, axs = plt.subplots(5, 5, figsize=(8,8))\n",
    "for ax in axs.flatten():\n",
    "    img, label = random.choice(train_dataset)\n",
    "    ax.imshow(img.squeeze().numpy(), cmap='gist_gray')\n",
    "    ax.set_title('Label: %d' % label)\n",
    "    ax.set_xticks([])\n",
    "    ax.set_yticks([])\n",
    "plt.tight_layout()"
   ]
  },
  {
   "cell_type": "markdown",
   "metadata": {},
   "source": [
    "## Autoencoder class"
   ]
  },
  {
   "cell_type": "markdown",
   "metadata": {},
   "source": [
    "Initialize the network and test it on some examples to check its output shape (we want it to be equal to the input shape)"
   ]
  },
  {
   "cell_type": "code",
   "execution_count": 4,
   "metadata": {},
   "outputs": [
    {
     "name": "stdout",
     "output_type": "stream",
     "text": [
      "Original image shape: torch.Size([1, 1, 28, 28])\n",
      "Encoded image shape: torch.Size([1, 4])\n",
      "Decoded image shape: torch.Size([1, 1, 28, 28])\n"
     ]
    }
   ],
   "source": [
    "### Initialize the network\n",
    "encoded_space_dim = 4\n",
    "net = Autoencoder(encoded_space_dim=encoded_space_dim)\n",
    "# Move all the network parameters to the selected device (if they are already on that device nothing happens)\n",
    "#net.to(device)\n",
    "\n",
    "\n",
    "### Some examples\n",
    "# Take an input image (remember to add the batch dimension)\n",
    "img = test_dataset[0][0].unsqueeze(0)\n",
    "print('Original image shape:', img.shape)\n",
    "# Encode the image\n",
    "img_enc = net.encode(img)\n",
    "print('Encoded image shape:', img_enc.shape)\n",
    "# Decode the image\n",
    "dec_img = net.decode(img_enc)\n",
    "print('Decoded image shape:', dec_img.shape)"
   ]
  },
  {
   "cell_type": "markdown",
   "metadata": {},
   "source": [
    "## Train the model\n",
    "### Simple training\n",
    "Now we will perform a simple training of the network. It will call the `train_epoch()` and `test_epoch()` methods of the `Autoencoder` class."
   ]
  },
  {
   "cell_type": "code",
   "execution_count": 12,
   "metadata": {
    "scrolled": true
   },
   "outputs": [
    {
     "name": "stdout",
     "output_type": "stream",
     "text": [
      "EPOCH 1/80\n"
     ]
    },
    {
     "ename": "NameError",
     "evalue": "name 'device' is not defined",
     "output_type": "error",
     "traceback": [
      "\u001b[0;31m---------------------------------------------------------------------------\u001b[0m",
      "\u001b[0;31mNameError\u001b[0m                                 Traceback (most recent call last)",
      "\u001b[0;32m<ipython-input-12-89411f841713>\u001b[0m in \u001b[0;36m<module>\u001b[0;34m\u001b[0m\n\u001b[1;32m     15\u001b[0m \u001b[0;34m\u001b[0m\u001b[0m\n\u001b[1;32m     16\u001b[0m     \u001b[0;31m### Training\u001b[0m\u001b[0;34m\u001b[0m\u001b[0;34m\u001b[0m\u001b[0;34m\u001b[0m\u001b[0m\n\u001b[0;32m---> 17\u001b[0;31m     \u001b[0mnet\u001b[0m\u001b[0;34m.\u001b[0m\u001b[0mtrain_epoch\u001b[0m\u001b[0;34m(\u001b[0m\u001b[0mdataloader\u001b[0m\u001b[0;34m=\u001b[0m\u001b[0mtrain_dataloader\u001b[0m\u001b[0;34m,\u001b[0m \u001b[0mloss_fn\u001b[0m\u001b[0;34m=\u001b[0m\u001b[0mloss_fn\u001b[0m\u001b[0;34m,\u001b[0m \u001b[0moptimizer\u001b[0m\u001b[0;34m=\u001b[0m\u001b[0moptim\u001b[0m\u001b[0;34m,\u001b[0m \u001b[0mlog\u001b[0m\u001b[0;34m=\u001b[0m\u001b[0;32mFalse\u001b[0m\u001b[0;34m)\u001b[0m\u001b[0;34m\u001b[0m\u001b[0;34m\u001b[0m\u001b[0m\n\u001b[0m\u001b[1;32m     18\u001b[0m \u001b[0;34m\u001b[0m\u001b[0m\n\u001b[1;32m     19\u001b[0m     \u001b[0;31m### Validation\u001b[0m\u001b[0;34m\u001b[0m\u001b[0;34m\u001b[0m\u001b[0;34m\u001b[0m\u001b[0m\n",
      "\u001b[0;32m~/UNIPD/Neural_Network_and_Deep_Learning_Projects/Lab_05/autoencoder_structure.py\u001b[0m in \u001b[0;36mtrain_epoch\u001b[0;34m(self, dataloader, loss_fn, optimizer, log)\u001b[0m\n\u001b[1;32m     89\u001b[0m         \u001b[0;32mfor\u001b[0m \u001b[0msample_batch\u001b[0m \u001b[0;32min\u001b[0m \u001b[0mdataloader\u001b[0m\u001b[0;34m:\u001b[0m\u001b[0;34m\u001b[0m\u001b[0;34m\u001b[0m\u001b[0m\n\u001b[1;32m     90\u001b[0m             \u001b[0;31m# Extract data and move tensors to the selected device\u001b[0m\u001b[0;34m\u001b[0m\u001b[0;34m\u001b[0m\u001b[0;34m\u001b[0m\u001b[0m\n\u001b[0;32m---> 91\u001b[0;31m             \u001b[0mimage_batch\u001b[0m \u001b[0;34m=\u001b[0m \u001b[0msample_batch\u001b[0m\u001b[0;34m[\u001b[0m\u001b[0;36m0\u001b[0m\u001b[0;34m]\u001b[0m\u001b[0;34m.\u001b[0m\u001b[0mto\u001b[0m\u001b[0;34m(\u001b[0m\u001b[0mdevice\u001b[0m\u001b[0;34m)\u001b[0m\u001b[0;34m\u001b[0m\u001b[0;34m\u001b[0m\u001b[0m\n\u001b[0m\u001b[1;32m     92\u001b[0m             \u001b[0;31m# Forward pass\u001b[0m\u001b[0;34m\u001b[0m\u001b[0;34m\u001b[0m\u001b[0;34m\u001b[0m\u001b[0m\n\u001b[1;32m     93\u001b[0m             \u001b[0moutput\u001b[0m \u001b[0;34m=\u001b[0m \u001b[0mself\u001b[0m\u001b[0;34m.\u001b[0m\u001b[0mforward\u001b[0m\u001b[0;34m(\u001b[0m\u001b[0mimage_batch\u001b[0m\u001b[0;34m)\u001b[0m\u001b[0;34m\u001b[0m\u001b[0;34m\u001b[0m\u001b[0m\n",
      "\u001b[0;31mNameError\u001b[0m: name 'device' is not defined"
     ]
    }
   ],
   "source": [
    "# Define a loss function\n",
    "loss_fn = torch.nn.MSELoss()\n",
    "    \n",
    "# Define an optimizer\n",
    "lr = 1e-3 # Learning rate\n",
    "optim = torch.optim.Adam(net.parameters(), lr=lr, weight_decay=1e-5)\n",
    "\n",
    "num_epochs = 80\n",
    "val_losses = []\n",
    "\n",
    "### TRAIN THE NETWORK\n",
    "\n",
    "for epoch in range(num_epochs):\n",
    "    print('EPOCH %d/%d' % (epoch + 1, num_epochs))\n",
    "\n",
    "    ### Training\n",
    "    net.train_epoch(dataloader=train_dataloader, loss_fn=loss_fn, optimizer=optim, log=False) \n",
    "\n",
    "    ### Validation\n",
    "    val_loss = net.test_epoch(dataloader=test_dataloader, loss_fn=loss_fn, optimizer=optim) \n",
    "    val_losses.append(val_loss)\n",
    "    # Print Validation loss\n",
    "    print('\\n\\t VALIDATION - EPOCH %d/%d - loss: %f\\n\\n' % (epoch + 1, num_epochs, val_loss))"
   ]
  },
  {
   "cell_type": "code",
   "execution_count": 37,
   "metadata": {},
   "outputs": [
    {
     "data": {
      "image/png": "[encoded data removed]",
      "text/plain": [
       "<Figure size 432x288 with 1 Axes>"
      ]
     },
     "metadata": {
      "needs_background": "light"
     },
     "output_type": "display_data"
    }
   ],
   "source": [
    "# Plot losses\n",
    "plt.close('all')\n",
    "plt.plot(val_losses, label='Validation Loss')\n",
    "plt.xlabel('Epoch')\n",
    "plt.ylabel('Loss')\n",
    "#plt.yscale('log')\n",
    "plt.grid()\n",
    "plt.legend()\n",
    "plt.show()"
   ]
  },
  {
   "cell_type": "markdown",
   "metadata": {},
   "source": [
    "### Training with Random Search\n",
    "\n",
    "Here we will search the best hyperparameters tuning the learning process through a Random Search. In particular we will search for the best values of `lr`,`weight_decay` and `dropout`. The following class has to generate combinations of those parameters, sampling them from their correspondent distribution."
   ]
  },
  {
   "cell_type": "code",
   "execution_count": 5,
   "metadata": {},
   "outputs": [],
   "source": [
    "# Class that generates random combinations of the \n",
    "# parameters to perform the random search\n",
    "class Param_generator():\n",
    "    \n",
    "    def __init__(self, drop_limits, lr_limits, L2_limits):\n",
    "        \n",
    "        self.drop_min = drop_limits[0]\n",
    "        self.drop_max = drop_limits[1]\n",
    "        self.lr_min_exp = lr_limits[0]\n",
    "        self.lr_max_exp = lr_limits[1]\n",
    "        self.L2_min_exp = L2_limits[0]\n",
    "        self.L2_max_exp = L2_limits[1]    \n",
    "        \n",
    "        \n",
    "    def gen_values(self, n_combins):\n",
    "        \n",
    "        drop_vals = np.random.uniform(self.drop_min, self.drop_max, n_combins)\n",
    "        lr_vals = 10**(np.random.uniform(self.lr_min_exp, self.lr_max_exp, n_combins))\n",
    "        L2_vals = 10**(np.random.uniform(self.L2_min_exp, self.L2_max_exp, n_combins))              \n",
    "        \n",
    "        combins_list = [ (drop_vals[i], lr_vals[i], L2_vals[i]) for i in range(n_combins)]\n",
    "        return combins_list\n",
    "\n",
    "    \n",
    "# Initialize parameters generator giving the bounds of each distribution, the optims and their probs\n",
    "pars_generator = Param_generator( [0,0.6], [-4,-1], [-6,-2] )"
   ]
  },
  {
   "cell_type": "markdown",
   "metadata": {},
   "source": [
    "Here we will perform the Random Search by defining and training a network for each combination of parameters: The best one will be kept for the following points of the exercise."
   ]
  },
  {
   "cell_type": "code",
   "execution_count": 7,
   "metadata": {},
   "outputs": [
    {
     "name": "stdout",
     "output_type": "stream",
     "text": [
      "Starting Random Search process\n",
      "\n",
      "Network trained with: Dropout = 0.19916777384683357 , lr = 0.013907470180713241 , L2_decay = 0.0003225998608423782\n",
      "Final loss value: \t tensor(0.0624)\n",
      "\n",
      "Network trained with: Dropout = 0.5415932465959474 , lr = 0.00044357182617396455 , L2_decay = 0.001477749864153608\n",
      "Final loss value: \t tensor(0.0692)\n",
      "\n",
      "Network trained with: Dropout = 0.1755787939991402 , lr = 0.01170634146073832 , L2_decay = 0.00503069845762583\n",
      "Final loss value: \t tensor(0.0973)\n",
      "\n",
      "Network trained with: Dropout = 0.46436109887134747 , lr = 0.025554566941720903 , L2_decay = 0.0003529469993390415\n",
      "Final loss value: \t tensor(0.0688)\n",
      "\n",
      "Network trained with: Dropout = 0.401310596594409 , lr = 0.053794951615432456 , L2_decay = 0.0016432936391679422\n",
      "Final loss value: \t tensor(0.0701)\n",
      "\n",
      "Network trained with: Dropout = 0.17269033958165517 , lr = 0.003326678884335614 , L2_decay = 0.009537568305161415\n",
      "Final loss value: \t tensor(0.0986)\n",
      "\n",
      "Network trained with: Dropout = 0.4392781254946586 , lr = 0.0002492087988933903 , L2_decay = 0.0015403386995937957\n",
      "Final loss value: \t tensor(0.0686)\n",
      "\n",
      "Network trained with: Dropout = 0.11810620042760693 , lr = 0.01698376557353535 , L2_decay = 0.0063184047177505444\n",
      "Final loss value: \t tensor(0.0976)\n",
      "\n",
      "Network trained with: Dropout = 0.05404505805020272 , lr = 0.0005075701957367028 , L2_decay = 0.0005428896420836226\n",
      "Final loss value: \t tensor(0.0632)\n",
      "\n",
      "Network trained with: Dropout = 0.2655459760553221 , lr = 0.001470295522480067 , L2_decay = 2.5070421380629295e-06\n",
      "Final loss value: \t tensor(0.0347)\n",
      "\n",
      "Network trained with: Dropout = 0.27999667090571784 , lr = 0.0008409147420577766 , L2_decay = 1.6203122647205594e-05\n",
      "Final loss value: \t tensor(0.0353)\n",
      "\n",
      "Network trained with: Dropout = 0.224675432882578 , lr = 0.0044153123240242 , L2_decay = 9.006374093890636e-05\n",
      "Final loss value: \t tensor(0.0376)\n",
      "\n",
      "Network trained with: Dropout = 0.2487556785302855 , lr = 0.004217990064447656 , L2_decay = 4.77874080959212e-05\n",
      "Final loss value: \t tensor(0.0365)\n",
      "\n",
      "Network trained with: Dropout = 0.05056522799485392 , lr = 0.005860044633184849 , L2_decay = 0.00017230163338678104\n",
      "Final loss value: \t tensor(0.0600)\n",
      "\n",
      "Network trained with: Dropout = 0.15067948366589032 , lr = 0.0003469967766478119 , L2_decay = 4.6490871004758405e-06\n",
      "Final loss value: \t tensor(0.0313)\n",
      "\n",
      "Network trained with: Dropout = 0.5759089298839865 , lr = 0.005651232098583986 , L2_decay = 6.183662229815631e-06\n",
      "Final loss value: \t tensor(0.0491)\n",
      "\n",
      "Network trained with: Dropout = 0.11173663941374014 , lr = 0.01025630445724329 , L2_decay = 0.0034364230774213433\n",
      "Final loss value: \t tensor(0.0770)\n",
      "\n",
      "Network trained with: Dropout = 0.42986119920240023 , lr = 0.0010165471041371837 , L2_decay = 1.6206822884178793e-05\n",
      "Final loss value: \t tensor(0.0406)\n",
      "\n",
      "Network trained with: Dropout = 0.018621290462960172 , lr = 0.0013064552250904747 , L2_decay = 0.009598826477578839\n",
      "Final loss value: \t tensor(0.0987)\n",
      "\n",
      "Network trained with: Dropout = 0.5072450127639441 , lr = 0.009569648225180753 , L2_decay = 0.0001461258728942279\n",
      "Final loss value: \t tensor(0.0644)\n",
      "\n",
      "Network trained with: Dropout = 0.2349717812290556 , lr = 0.00011882870598506005 , L2_decay = 1.9472126071063205e-05\n",
      "Final loss value: \t tensor(0.0376)\n",
      "\n",
      "Network trained with: Dropout = 0.24876739897764613 , lr = 0.025940244748171193 , L2_decay = 0.0002259895660960475\n",
      "Final loss value: \t tensor(0.0635)\n",
      "\n",
      "Network trained with: Dropout = 0.3631341986854317 , lr = 0.00022155516379956304 , L2_decay = 0.005731682195609444\n",
      "Final loss value: \t tensor(0.0985)\n",
      "\n",
      "Network trained with: Dropout = 0.23950739386270356 , lr = 0.0021852695198529633 , L2_decay = 0.000255188630390466\n",
      "Final loss value: \t tensor(0.0619)\n",
      "\n",
      "Network trained with: Dropout = 0.5798551807657009 , lr = 0.00107155155042167 , L2_decay = 4.381646643445765e-05\n",
      "Final loss value: \t tensor(0.0512)\n",
      "\n",
      "Network trained with: Dropout = 0.4544039634797905 , lr = 0.0008556524447078629 , L2_decay = 0.0003747434321013914\n",
      "Final loss value: \t tensor(0.0644)\n",
      "\n",
      "Network trained with: Dropout = 0.3529013520654095 , lr = 0.0008355241637539457 , L2_decay = 0.009641747278517819\n",
      "Final loss value: \t tensor(0.0987)\n",
      "\n",
      "Network trained with: Dropout = 0.4829524657648369 , lr = 0.0014938080017040084 , L2_decay = 9.054140077223319e-05\n",
      "Final loss value: \t tensor(0.0633)\n",
      "\n",
      "Network trained with: Dropout = 0.5033566415598316 , lr = 0.009273223935305615 , L2_decay = 4.271644153904566e-05\n",
      "Final loss value: \t tensor(0.0476)\n",
      "\n",
      "Network trained with: Dropout = 0.4030838789954136 , lr = 0.0020057324141236686 , L2_decay = 0.0017536603405668646\n",
      "Final loss value: \t tensor(0.0687)\n",
      "\n",
      "\n",
      " Random Search process took 66279 seconds\n",
      "\n",
      "\n",
      "Best combination of training params is (0.3529013520654095, 0.0008355241637539457, 0.009641747278517819)\n"
     ]
    }
   ],
   "source": [
    "# Define a loss function\n",
    "loss_fn = torch.nn.MSELoss()\n",
    "\n",
    "# generate combinations of paramereters and prepare scores array\n",
    "params_combinations = pars_generator.gen_values(30)\n",
    "all_scores = np.zeros(len(params_combinations))\n",
    "\n",
    "# other params for training\n",
    "encoded_space_dim = 4\n",
    "num_epochs = 60\n",
    "best_score = 1000000 #arbitrary big number\n",
    "\n",
    "\n",
    "\n",
    "####### RANDOM SEARCH #######\n",
    "print('Starting Random Search process')\n",
    "start = time.time()\n",
    "\n",
    "for i in range(len(params_combinations)):\n",
    "    \n",
    "    # Extact params\n",
    "    dropout, lr, L2_decay = params_combinations[i]\n",
    "    \n",
    "    # Generate the network\n",
    "    net = Autoencoder(encoded_space_dim, dropout)\n",
    "    net.to(device)\n",
    "\n",
    "    # Define an optimizer\n",
    "    optim = torch.optim.Adam(net.parameters(), lr=lr, weight_decay=L2_decay)\n",
    "\n",
    "    ### Train the model\n",
    "    for epoch in range(num_epochs):\n",
    "        net.train_epoch(dataloader=train_dataloader, loss_fn=loss_fn, optim=optim, log=False) \n",
    "\n",
    "    # Compute final validation loss\n",
    "    test_loss = net.test_epoch(dataloader=test_dataloader, loss_fn=loss_fn)\n",
    "    \n",
    "    # Print and store final loss value\n",
    "    all_scores[i] = test_loss\n",
    "    print('\\nNetwork trained with: Dropout =',dropout,', lr =',lr,', L2_decay =',L2_decay)\n",
    "    print('Final loss value: \\t', test_loss)\n",
    "    \n",
    "    # If this is the best score, keep model as the best one\n",
    "    if test_loss < best_score:\n",
    "        best_net = net\n",
    "        best_score = test_loss\n",
    "        \n",
    "\n",
    "    \n",
    "# Print time needed to complete Random Search\n",
    "finish = time.time()\n",
    "print('\\n\\n Random Search process took', int(finish-start), 'seconds')\n",
    "\n",
    "# Sort scores from best to worst and the combinations accordingly\n",
    "sorted_scores, sorted_params = zip(*sorted(zip(all_scores, params_combinations),reverse=True))\n",
    "print('\\n\\nBest combination of training params is', sorted_params[0])\n",
    "\n",
    "# Store Best Network weights       \n",
    "torch.save(net.state_dict(), 'best_net_params_4.pth')\n",
    "\n",
    "# Save the sorted scores and params combinations in 2 files\n",
    "with open('sorted_scores.dat', 'w') as f:\n",
    "    for item in sorted_scores:\n",
    "        f.write(\"%s\\n\" % item)\n",
    "        \n",
    "with open('sorted_params.dat', 'w') as f:\n",
    "    for item in sorted_params:\n",
    "        f.write(\"%s,%s,%s\\n\" % item)"
   ]
  },
  {
   "cell_type": "code",
   "execution_count": null,
   "metadata": {},
   "outputs": [],
   "source": [
    "# If training was done in the past, you can load the trained network\n",
    "net.load_state_dict(torch.load('best_net_params_4.pth', map_location='cpu'))"
   ]
  },
  {
   "cell_type": "markdown",
   "metadata": {},
   "source": [
    "### Performance for different sizes of the hidden layer\n",
    "Now we will use the `best_params` find before to train networks with different sizes of the hidden layer (we will go from 1 to 10) to check how this will impact the performances."
   ]
  },
  {
   "cell_type": "code",
   "execution_count": null,
   "metadata": {},
   "outputs": [],
   "source": [
    "# Take best training params \n",
    "dropout = 0.4\n",
    "lr = 0.001\n",
    "L2_decay = 0.00005\n",
    "\n",
    "loss_fn = torch.nn.MSELoss()\n",
    "num_epochs = 100\n",
    "\n",
    "# Prepare array that will contain the final losses for each architecture \n",
    "final_losses = np.zeros(10)\n",
    "\n",
    "\n",
    "for hidden_size in range(1,11):\n",
    "    \n",
    "    # Generate the network\n",
    "    net = Autoencoder(encoded_space_dim=hidden_size, dropout)\n",
    "    net.to(device)\n",
    "\n",
    "    # Define an optimizer\n",
    "    optim = torch.optim.Adam(net.parameters(), lr=lr, weight_decay=L2_decay)\n",
    "\n",
    "    ### Train the model\n",
    "    for epoch in range(num_epochs):\n",
    "        net.train_epoch(dataloader=train_dataloader, loss_fn=loss_fn, optimizer=optim, log=False) \n",
    "\n",
    "    # Compute final validation loss\n",
    "    test_loss = net.test_epoch(dataloader=test_dataloader, loss_fn=loss_fn, optimizer=optim) \n",
    "    final_losses[hidden_size-1] = test_loss \n",
    "    print('Network with',hidden_size,'hidden neurons : ',test_loss)"
   ]
  },
  {
   "cell_type": "code",
   "execution_count": null,
   "metadata": {},
   "outputs": [],
   "source": [
    "# Plot losses\n",
    "plt.close('all')\n",
    "plt.plot(final_losses, label='Final loss values')\n",
    "plt.xlabel('Size of the hidden layer')\n",
    "plt.ylabel('Loss')\n",
    "#plt.yscale('log')\n",
    "plt.grid()\n",
    "plt.legend()\n",
    "plt.show()"
   ]
  },
  {
   "cell_type": "markdown",
   "metadata": {},
   "source": [
    "## Testing tools\n",
    "### Plot comparison between original and reconstructed sample"
   ]
  },
  {
   "cell_type": "code",
   "execution_count": null,
   "metadata": {},
   "outputs": [],
   "source": [
    "testing_tools.plot_comparison(net, test_dataset)\n",
    "# check if it can be improved (single image)"
   ]
  },
  {
   "cell_type": "markdown",
   "metadata": {},
   "source": [
    "### Encoded space visualization"
   ]
  },
  {
   "cell_type": "code",
   "execution_count": null,
   "metadata": {},
   "outputs": [],
   "source": [
    "# function to get the encoded representation of some input dataset\n",
    "def get_enc_representation(dataset, net):\n",
    "    encoded_samples = []\n",
    "    \n",
    "    for sample in tqdm(dataset):\n",
    "        img = sample[0].unsqueeze(0)\n",
    "        label = sample[1]\n",
    "        \n",
    "        # Encode image\n",
    "        net.eval()\n",
    "        with torch.no_grad():\n",
    "            encoded_img  = net.encode(img)\n",
    "            \n",
    "        # Append to list\n",
    "        encoded_samples.append((encoded_img.flatten().numpy(), label))\n",
    "    \n",
    "    return encoded_samples  \n",
    "\n",
    "\n",
    "# Function to plot the first two variables of the encoded \n",
    "# representation of the encoded samples given as argument\n",
    "def plot_enc_representation(encoded_samples, n_samples_to_plot = 1000):\n",
    "    \n",
    "    # define colors associated to each label\n",
    "    color_map = { 0: '#1f77b4',\n",
    "                  1: '#ff7f0e',\n",
    "                  2: '#2ca02c',\n",
    "                  3: '#d62728',\n",
    "                  4: '#9467bd',\n",
    "                  5: '#8c564b',\n",
    "                  6: '#e377c2',\n",
    "                  7: '#7f7f7f',\n",
    "                  8: '#bcbd22',\n",
    "                  9: '#17becf' }\n",
    "    \n",
    "    ### Visualize encoded space\n",
    "    encoded_samples_reduced = random.sample(encoded_samples, n_samples_to_plot)\n",
    "    plt.figure(figsize=(8,6))\n",
    "    for enc_sample, label in tqdm(encoded_samples_reduced):\n",
    "        plt.plot(enc_sample[0], enc_sample[1], marker='.', color=color_map[label])\n",
    "    plt.grid(True)\n",
    "    plt.legend([plt.Line2D([0], [0], ls='', marker='.', color=c, label=l) for l, c in color_map.items()], color_map.keys())\n",
    "    plt.tight_layout()\n",
    "    plt.show()\n",
    "    \n",
    "    return"
   ]
  },
  {
   "cell_type": "code",
   "execution_count": null,
   "metadata": {},
   "outputs": [],
   "source": [
    "# Use the functions above to plot the encoded representation\n",
    "# of the test dataset\n",
    "\n",
    "enc_test_data = get_enc_representation(test_dataset, net)\n",
    "plot_enc_representation(enc_test_data)"
   ]
  },
  {
   "cell_type": "markdown",
   "metadata": {},
   "source": [
    "### Decode custom sample"
   ]
  },
  {
   "cell_type": "code",
   "execution_count": null,
   "metadata": {},
   "outputs": [],
   "source": [
    "def generate_from_encoded_sample(enc_sample, net):\n",
    "    \n",
    "    # Decode the sample to produce the image\n",
    "    net.eval()\n",
    "    with torch.no_grad():\n",
    "        encoded_value = torch.tensor(enc_sample).float().unsqueeze(0)\n",
    "        new_img  = net.decode(encoded_value)\n",
    "\n",
    "    # plot the generated image\n",
    "    plt.figure(figsize=(12,10))\n",
    "    plt.imshow(new_img.squeeze().numpy(), cmap='gist_gray')\n",
    "    plt.show()\n",
    "    \n",
    "    return"
   ]
  },
  {
   "cell_type": "code",
   "execution_count": null,
   "metadata": {},
   "outputs": [],
   "source": [
    "generate_from_encoded_sample([8.0, -12.0], net)"
   ]
  },
  {
   "cell_type": "code",
   "execution_count": null,
   "metadata": {},
   "outputs": [],
   "source": []
  }
 ],
 "metadata": {
  "kernelspec": {
   "display_name": "Python 3",
   "language": "python",
   "name": "python3"
  },
  "language_info": {
   "codemirror_mode": {
    "name": "ipython",
    "version": 3
   },
   "file_extension": ".py",
   "mimetype": "text/x-python",
   "name": "python",
   "nbconvert_exporter": "python",
   "pygments_lexer": "ipython3",
   "version": "3.7.5"
  }
 },
 "nbformat": 4,
 "nbformat_minor": 2
}
