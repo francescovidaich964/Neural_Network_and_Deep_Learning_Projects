{
 "cells": [
  {
   "cell_type": "markdown",
   "metadata": {},
   "source": [
    "# Lab05 - Autoencoders for digit reconstruction\n",
    "\n",
    "In this assignment we will build an autoencoder to that will reconstruct digits from in the MNIST datset."
   ]
  },
  {
   "cell_type": "code",
   "execution_count": 1,
   "metadata": {},
   "outputs": [
    {
     "name": "stdout",
     "output_type": "stream",
     "text": [
      "Device: cpu\n"
     ]
    }
   ],
   "source": [
    "import os\n",
    "import torch\n",
    "import numpy as np\n",
    "import matplotlib.pyplot as plt\n",
    "import random\n",
    "import time\n",
    "\n",
    "from torch import nn\n",
    "from torch.utils.data import Dataset, DataLoader\n",
    "from torchvision import transforms\n",
    "from torchvision.datasets import MNIST\n",
    "\n",
    "from tqdm import tqdm\n",
    "\n",
    "\n",
    "# Import my functions and classes\n",
    "from autoencoder_structure import Autoencoder\n",
    "import testing_tools\n",
    "import corrupt_data\n",
    "\n",
    "\n",
    "### If cuda is available set the device to GPU\n",
    "if torch.cuda.is_available():\n",
    "    device = torch.device(\"cuda\")\n",
    "    torch.set_default_tensor_type(torch.cuda.FloatTensor)\n",
    "else:\n",
    "    device = torch.device(\"cpu\")\n",
    "print('Device:', device)\n"
   ]
  },
  {
   "cell_type": "code",
   "execution_count": 2,
   "metadata": {},
   "outputs": [],
   "source": [
    "train_transform = transforms.Compose([\n",
    "    transforms.ToTensor(),\n",
    "])\n",
    "\n",
    "test_transform = transforms.Compose([\n",
    "    transforms.ToTensor(),\n",
    "])\n",
    "\n",
    "# Load datasets\n",
    "train_dataset = MNIST('../datasets', train=True,  download=True, transform=train_transform)\n",
    "test_dataset  = MNIST('../datasets', train=False, download=True, transform=test_transform)\n",
    "\n",
    "# Define dataloaders\n",
    "train_dataloader = DataLoader(train_dataset, batch_size=512, shuffle=True)\n",
    "test_dataloader = DataLoader(test_dataset, batch_size=512, shuffle=False)"
   ]
  },
  {
   "cell_type": "markdown",
   "metadata": {},
   "source": [
    "Plot some sample from the dataset"
   ]
  },
  {
   "cell_type": "code",
   "execution_count": 3,
   "metadata": {},
   "outputs": [
    {
     "data": {
      "image/png": "[encoded data removed]",
      "text/plain": [
       "<Figure size 576x576 with 25 Axes>"
      ]
     },
     "metadata": {},
     "output_type": "display_data"
    }
   ],
   "source": [
    "plt.close('all')\n",
    "fig, axs = plt.subplots(5, 5, figsize=(8,8))\n",
    "for ax in axs.flatten():\n",
    "    img, label = random.choice(train_dataset)\n",
    "    ax.imshow(img.squeeze().numpy(), cmap='gist_gray')\n",
    "    ax.set_title('Label: %d' % label)\n",
    "    ax.set_xticks([])\n",
    "    ax.set_yticks([])\n",
    "plt.tight_layout()"
   ]
  },
  {
   "cell_type": "markdown",
   "metadata": {},
   "source": [
    "## Autoencoder class"
   ]
  },
  {
   "cell_type": "markdown",
   "metadata": {},
   "source": [
    "Initialize the network and test it on some examples to check its output shape (we want it to be equal to the input shape)"
   ]
  },
  {
   "cell_type": "code",
   "execution_count": 30,
   "metadata": {},
   "outputs": [
    {
     "name": "stdout",
     "output_type": "stream",
     "text": [
      "Original image shape: torch.Size([1, 1, 28, 28])\n",
      "Encoded image shape: torch.Size([1, 4])\n",
      "Decoded image shape: torch.Size([1, 1, 28, 28])\n"
     ]
    }
   ],
   "source": [
    "### Initialize the network\n",
    "encoded_space_dim = 4\n",
    "net = Autoencoder(encoded_space_dim, device, dropout=0.3)\n",
    "# Move all the network parameters to the selected device (if they are already on that device nothing happens)\n",
    "net.to(device)\n",
    "\n",
    "\n",
    "### Some examples\n",
    "# Take an input image (remember to add the batch dimension)\n",
    "img = test_dataset[0][0].unsqueeze(0).to(device)\n",
    "print('Original image shape:', img.shape)\n",
    "# Encode the image\n",
    "img_enc = net.encode(img)\n",
    "print('Encoded image shape:', img_enc.shape)\n",
    "# Decode the image\n",
    "dec_img = net.decode(img_enc)\n",
    "print('Decoded image shape:', dec_img.shape)"
   ]
  },
  {
   "cell_type": "markdown",
   "metadata": {},
   "source": [
    "## Train the model\n",
    "To perform the different trainings, the following procedures will call the `train_epoch()` and `test_epoch()` methods of the `Autoencoder` class."
   ]
  },
  {
   "cell_type": "markdown",
   "metadata": {},
   "source": [
    "### Training with Random Search\n",
    "\n",
    "Here we will search the best hyperparameters tuning the learning process through a Random Search. In particular we will search for the best values of `lr`,`weight_decay` and `dropout`. The following class has to generate combinations of those parameters, sampling them from their correspondent distribution."
   ]
  },
  {
   "cell_type": "code",
   "execution_count": 5,
   "metadata": {},
   "outputs": [],
   "source": [
    "# Class that generates random combinations of the \n",
    "# parameters to perform the random search\n",
    "class Param_generator():\n",
    "    \n",
    "    def __init__(self, drop_limits, lr_limits, L2_limits):\n",
    "        \n",
    "        self.drop_min = drop_limits[0]\n",
    "        self.drop_max = drop_limits[1]\n",
    "        self.lr_min_exp = lr_limits[0]\n",
    "        self.lr_max_exp = lr_limits[1]\n",
    "        self.L2_min_exp = L2_limits[0]\n",
    "        self.L2_max_exp = L2_limits[1]    \n",
    "        \n",
    "        \n",
    "    def gen_values(self, n_combins):\n",
    "        \n",
    "        drop_vals = np.random.uniform(self.drop_min, self.drop_max, n_combins)\n",
    "        lr_vals = 10**(np.random.uniform(self.lr_min_exp, self.lr_max_exp, n_combins))\n",
    "        L2_vals = 10**(np.random.uniform(self.L2_min_exp, self.L2_max_exp, n_combins))              \n",
    "        \n",
    "        combins_list = [ (drop_vals[i], lr_vals[i], L2_vals[i]) for i in range(n_combins)]\n",
    "        return combins_list\n",
    "\n",
    "    \n",
    "# Initialize parameters generator giving the bounds of each distribution, the optims and their probs\n",
    "pars_generator = Param_generator( [0,0.6], [-4,-1], [-6,-2] )"
   ]
  },
  {
   "cell_type": "markdown",
   "metadata": {},
   "source": [
    "Here we will perform the Random Search by defining and training a network for each combination of parameters: The best one will be kept for the following points of the exercise."
   ]
  },
  {
   "cell_type": "code",
   "execution_count": null,
   "metadata": {
    "scrolled": true
   },
   "outputs": [
    {
     "name": "stdout",
     "output_type": "stream",
     "text": [
      "Starting Random Search process\n",
      "\n",
      "Network trained with: Dropout = 0.19916777384683357 , lr = 0.013907470180713241 , L2_decay = 0.0003225998608423782\n",
      "Final loss value: \t tensor(0.0624)\n",
      "\n",
      "Network trained with: Dropout = 0.5415932465959474 , lr = 0.00044357182617396455 , L2_decay = 0.001477749864153608\n",
      "Final loss value: \t tensor(0.0692)\n",
      "\n",
      "Network trained with: Dropout = 0.1755787939991402 , lr = 0.01170634146073832 , L2_decay = 0.00503069845762583\n",
      "Final loss value: \t tensor(0.0973)\n",
      "\n",
      "Network trained with: Dropout = 0.46436109887134747 , lr = 0.025554566941720903 , L2_decay = 0.0003529469993390415\n",
      "Final loss value: \t tensor(0.0688)\n",
      "\n",
      "Network trained with: Dropout = 0.401310596594409 , lr = 0.053794951615432456 , L2_decay = 0.0016432936391679422\n",
      "Final loss value: \t tensor(0.0701)\n",
      "\n",
      "Network trained with: Dropout = 0.17269033958165517 , lr = 0.003326678884335614 , L2_decay = 0.009537568305161415\n",
      "Final loss value: \t tensor(0.0986)\n",
      "\n",
      "Network trained with: Dropout = 0.4392781254946586 , lr = 0.0002492087988933903 , L2_decay = 0.0015403386995937957\n",
      "Final loss value: \t tensor(0.0686)\n",
      "\n",
      "Network trained with: Dropout = 0.11810620042760693 , lr = 0.01698376557353535 , L2_decay = 0.0063184047177505444\n",
      "Final loss value: \t tensor(0.0976)\n",
      "\n",
      "Network trained with: Dropout = 0.05404505805020272 , lr = 0.0005075701957367028 , L2_decay = 0.0005428896420836226\n",
      "Final loss value: \t tensor(0.0632)\n",
      "\n",
      "Network trained with: Dropout = 0.2655459760553221 , lr = 0.001470295522480067 , L2_decay = 2.5070421380629295e-06\n",
      "Final loss value: \t tensor(0.0347)\n",
      "\n",
      "Network trained with: Dropout = 0.27999667090571784 , lr = 0.0008409147420577766 , L2_decay = 1.6203122647205594e-05\n",
      "Final loss value: \t tensor(0.0353)\n",
      "\n",
      "Network trained with: Dropout = 0.224675432882578 , lr = 0.0044153123240242 , L2_decay = 9.006374093890636e-05\n",
      "Final loss value: \t tensor(0.0376)\n",
      "\n",
      "Network trained with: Dropout = 0.2487556785302855 , lr = 0.004217990064447656 , L2_decay = 4.77874080959212e-05\n",
      "Final loss value: \t tensor(0.0365)\n",
      "\n",
      "Network trained with: Dropout = 0.05056522799485392 , lr = 0.005860044633184849 , L2_decay = 0.00017230163338678104\n",
      "Final loss value: \t tensor(0.0600)\n",
      "\n",
      "Network trained with: Dropout = 0.15067948366589032 , lr = 0.0003469967766478119 , L2_decay = 4.6490871004758405e-06\n",
      "Final loss value: \t tensor(0.0313)\n",
      "\n",
      "Network trained with: Dropout = 0.5759089298839865 , lr = 0.005651232098583986 , L2_decay = 6.183662229815631e-06\n",
      "Final loss value: \t tensor(0.0491)\n",
      "\n",
      "Network trained with: Dropout = 0.11173663941374014 , lr = 0.01025630445724329 , L2_decay = 0.0034364230774213433\n",
      "Final loss value: \t tensor(0.0770)\n",
      "\n",
      "Network trained with: Dropout = 0.42986119920240023 , lr = 0.0010165471041371837 , L2_decay = 1.6206822884178793e-05\n",
      "Final loss value: \t tensor(0.0406)\n",
      "\n",
      "Network trained with: Dropout = 0.018621290462960172 , lr = 0.0013064552250904747 , L2_decay = 0.009598826477578839\n",
      "Final loss value: \t tensor(0.0987)\n"
     ]
    }
   ],
   "source": [
    "# Define a loss function\n",
    "loss_fn = torch.nn.MSELoss()\n",
    "\n",
    "# generate combinations of paramereters and prepare scores array\n",
    "params_combinations = pars_generator.gen_values(30)\n",
    "all_scores = np.zeros(len(params_combinations))\n",
    "\n",
    "# other params for training\n",
    "encoded_space_dim = 4\n",
    "num_epochs = 60\n",
    "best_score = 1000000 #arbitrary big number\n",
    "\n",
    "\n",
    "\n",
    "####### RANDOM SEARCH #######\n",
    "print('Starting Random Search process')\n",
    "start = time.time()\n",
    "\n",
    "for i in range(len(params_combinations)):\n",
    "    \n",
    "    # Extact params\n",
    "    dropout, lr, L2_decay = params_combinations[i]\n",
    "    \n",
    "    # Generate the network\n",
    "    net = Autoencoder(encoded_space_dim, device, dropout)\n",
    "    net.to(device)\n",
    "\n",
    "    # Define an optimizer\n",
    "    optim = torch.optim.Adam(net.parameters(), lr=lr, weight_decay=L2_decay)\n",
    "\n",
    "    ### Train the model\n",
    "    for epoch in range(num_epochs):\n",
    "        net.train_epoch(dataloader=train_dataloader, loss_fn=loss_fn, optim=optim, log=False) \n",
    "\n",
    "    # Compute final validation loss\n",
    "    test_loss = net.test_epoch(dataloader=test_dataloader, loss_fn=loss_fn)\n",
    "    \n",
    "    # Print and store final loss value\n",
    "    all_scores[i] = test_loss\n",
    "    print('\\nNetwork trained with: Dropout =',dropout,', lr =',lr,', L2_decay =',L2_decay)\n",
    "    print('Final loss value: \\t', test_loss)\n",
    "    \n",
    "    # If this is the best score, keep model as the best one\n",
    "    if test_loss < best_score:\n",
    "        best_net = net\n",
    "        best_score = test_loss\n",
    "        \n",
    "\n",
    "    \n",
    "# Print time needed to complete Random Search\n",
    "finish = time.time()\n",
    "print('\\n\\n Random Search process took', int(finish-start), 'seconds')\n",
    "\n",
    "# Sort scores from best to worst and the combinations accordingly\n",
    "sorted_scores, sorted_params = zip(*sorted(zip(all_scores, params_combinations),reverse=True))\n",
    "print('\\n\\nBest combination of training params is', sorted_params[0])\n",
    "\n",
    "# Store Best Network weights       \n",
    "torch.save(net.state_dict(), 'best_net_params_4.pth')\n",
    "\n",
    "# Save the sorted scores and params combinations in 2 files\n",
    "with open('sorted_scores.dat', 'w') as f:\n",
    "    for item in sorted_scores:\n",
    "        f.write(\"%s\\n\" % item)\n",
    "        \n",
    "with open('sorted_params.dat', 'w') as f:\n",
    "    for item in sorted_params:\n",
    "        f.write(\"%s,%s,%s\\n\" % item)"
   ]
  },
  {
   "cell_type": "markdown",
   "metadata": {},
   "source": [
    "After finding the bet combination of hyperparameters to train the network, retrain it with more epochs too obtain the \"final\" model."
   ]
  },
  {
   "cell_type": "code",
   "execution_count": 36,
   "metadata": {},
   "outputs": [
    {
     "ename": "NameError",
     "evalue": "name 'val_loss' is not defined",
     "output_type": "error",
     "traceback": [
      "\u001b[0;31m---------------------------------------------------------------------------\u001b[0m",
      "\u001b[0;31mNameError\u001b[0m                                 Traceback (most recent call last)",
      "\u001b[0;32m<ipython-input-36-9555d869f7b4>\u001b[0m in \u001b[0;36m<module>\u001b[0;34m\u001b[0m\n\u001b[1;32m     18\u001b[0m     \u001b[0mtest_loss\u001b[0m \u001b[0;34m=\u001b[0m \u001b[0mnet\u001b[0m\u001b[0;34m.\u001b[0m\u001b[0mtest_epoch\u001b[0m\u001b[0;34m(\u001b[0m\u001b[0mdataloader\u001b[0m\u001b[0;34m=\u001b[0m\u001b[0mtest_dataloader\u001b[0m\u001b[0;34m,\u001b[0m \u001b[0mloss_fn\u001b[0m\u001b[0;34m=\u001b[0m\u001b[0mloss_fn\u001b[0m\u001b[0;34m)\u001b[0m\u001b[0;34m\u001b[0m\u001b[0;34m\u001b[0m\u001b[0m\n\u001b[1;32m     19\u001b[0m     \u001b[0;31m# Print Validation loss\u001b[0m\u001b[0;34m\u001b[0m\u001b[0;34m\u001b[0m\u001b[0;34m\u001b[0m\u001b[0m\n\u001b[0;32m---> 20\u001b[0;31m     \u001b[0mprint\u001b[0m\u001b[0;34m(\u001b[0m\u001b[0;34m'\\n\\t VALIDATION - EPOCH %d/%d - loss: %f\\n\\n'\u001b[0m \u001b[0;34m%\u001b[0m \u001b[0;34m(\u001b[0m\u001b[0mepoch\u001b[0m \u001b[0;34m+\u001b[0m \u001b[0;36m1\u001b[0m\u001b[0;34m,\u001b[0m \u001b[0mnum_epochs\u001b[0m\u001b[0;34m,\u001b[0m \u001b[0mval_loss\u001b[0m\u001b[0;34m)\u001b[0m\u001b[0;34m)\u001b[0m\u001b[0;34m\u001b[0m\u001b[0;34m\u001b[0m\u001b[0m\n\u001b[0m\u001b[1;32m     21\u001b[0m \u001b[0;34m\u001b[0m\u001b[0m\n\u001b[1;32m     22\u001b[0m \u001b[0;31m### Save trained model as the best one\u001b[0m\u001b[0;34m\u001b[0m\u001b[0;34m\u001b[0m\u001b[0;34m\u001b[0m\u001b[0m\n",
      "\u001b[0;31mNameError\u001b[0m: name 'val_loss' is not defined"
     ]
    }
   ],
   "source": [
    "# Take best params from above\n",
    "dropout, lr, L2_decay = (0.2,0.0001,0.00001)\n",
    "num_epochs = 10\n",
    "\n",
    "# Generate the network\n",
    "net = Autoencoder(encoded_space_dim, device, dropout)\n",
    "net.to(device)\n",
    "\n",
    "# Define an optimizer\n",
    "optim = torch.optim.Adam(net.parameters(), lr=lr, weight_decay=L2_decay)\n",
    "\n",
    "### Train the model\n",
    "for epoch in range(num_epochs):\n",
    "    \n",
    "    net.train_epoch(dataloader=train_dataloader, loss_fn=loss_fn, optim=optim, log=False) \n",
    "\n",
    "    # Compute final validation loss\n",
    "    test_loss = net.test_epoch(dataloader=test_dataloader, loss_fn=loss_fn)\n",
    "    # Print Validation loss\n",
    "    print('\\n\\t VALIDATION - EPOCH %d/%d - loss: %f\\n\\n' % (epoch + 1, num_epochs, val_loss))\n",
    "\n",
    "### Save trained model as the best one\n",
    "torch.save(net.state_dict(), 'best_net_params_4.pth')"
   ]
  },
  {
   "cell_type": "code",
   "execution_count": 7,
   "metadata": {},
   "outputs": [
    {
     "data": {
      "text/plain": [
       "Autoencoder(\n",
       "  (encoder_cnn): Sequential(\n",
       "    (0): Conv2d(1, 8, kernel_size=(3, 3), stride=(2, 2), padding=(1, 1))\n",
       "    (1): Dropout(p=0, inplace=False)\n",
       "    (2): ReLU(inplace=True)\n",
       "    (3): Conv2d(8, 16, kernel_size=(3, 3), stride=(2, 2), padding=(1, 1))\n",
       "    (4): Dropout(p=0, inplace=False)\n",
       "    (5): ReLU(inplace=True)\n",
       "    (6): Conv2d(16, 32, kernel_size=(3, 3), stride=(2, 2))\n",
       "    (7): Dropout(p=0, inplace=False)\n",
       "    (8): ReLU(inplace=True)\n",
       "  )\n",
       "  (encoder_lin): Sequential(\n",
       "    (0): Linear(in_features=288, out_features=64, bias=True)\n",
       "    (1): Dropout(p=0, inplace=False)\n",
       "    (2): ReLU(inplace=True)\n",
       "    (3): Linear(in_features=64, out_features=4, bias=True)\n",
       "  )\n",
       "  (decoder_lin): Sequential(\n",
       "    (0): Linear(in_features=4, out_features=64, bias=True)\n",
       "    (1): Dropout(p=0, inplace=False)\n",
       "    (2): ReLU(inplace=True)\n",
       "    (3): Linear(in_features=64, out_features=288, bias=True)\n",
       "    (4): Dropout(p=0, inplace=False)\n",
       "    (5): ReLU(inplace=True)\n",
       "  )\n",
       "  (decoder_conv): Sequential(\n",
       "    (0): ConvTranspose2d(32, 16, kernel_size=(3, 3), stride=(2, 2))\n",
       "    (1): Dropout(p=0, inplace=False)\n",
       "    (2): ReLU(inplace=True)\n",
       "    (3): ConvTranspose2d(16, 8, kernel_size=(3, 3), stride=(2, 2), padding=(1, 1), output_padding=(1, 1))\n",
       "    (4): Dropout(p=0, inplace=False)\n",
       "    (5): ReLU(inplace=True)\n",
       "    (6): ConvTranspose2d(8, 1, kernel_size=(3, 3), stride=(2, 2), padding=(1, 1), output_padding=(1, 1))\n",
       "  )\n",
       ")"
      ]
     },
     "execution_count": 7,
     "metadata": {},
     "output_type": "execute_result"
    }
   ],
   "source": [
    "# If training was done in the past, you can load the trained network\n",
    "net = Autoencoder(4, device)\n",
    "net.load_state_dict(torch.load('best_net_params_4.pth', map_location=device))\n",
    "net.to(device)"
   ]
  },
  {
   "cell_type": "markdown",
   "metadata": {},
   "source": [
    "### Test model with corrupted data\n",
    "Use the testing tools (defined in the corresponding python script) to see how the model reconstruct corrupted data"
   ]
  },
  {
   "cell_type": "code",
   "execution_count": 4,
   "metadata": {},
   "outputs": [],
   "source": [
    "# Generate the corrupted datasets\n",
    "noise_data = corrupt_data.Gauss_noised_dataset(test_dataset)\n",
    "obscure_data = corrupt_data.Obscured_dataset(test_dataset, 15)"
   ]
  },
  {
   "cell_type": "code",
   "execution_count": 19,
   "metadata": {},
   "outputs": [
    {
     "data": {
      "image/png": "[encoded data removed]",
      "text/plain": [
       "<Figure size 864x432 with 2 Axes>"
      ]
     },
     "metadata": {
      "needs_background": "light"
     },
     "output_type": "display_data"
    }
   ],
   "source": [
    "### GAUSSIAN NOISE ###\n",
    "# Plot one sample next to the reconstructed one\n",
    "testing_tools.plot_comparison(net, noise_data[38])"
   ]
  },
  {
   "cell_type": "code",
   "execution_count": 18,
   "metadata": {},
   "outputs": [
    {
     "data": {
      "image/png": "[encoded data removed]",
      "text/plain": [
       "<Figure size 864x432 with 2 Axes>"
      ]
     },
     "metadata": {
      "needs_background": "light"
     },
     "output_type": "display_data"
    }
   ],
   "source": [
    "### OCCLUSION ###\n",
    "# Plot one sample next to the reconstructed one\n",
    "testing_tools.plot_comparison(net, obscure_data[38])"
   ]
  },
  {
   "cell_type": "markdown",
   "metadata": {},
   "source": [
    "### Performance for different sizes of the hidden layer\n",
    "Now we will use the `best_params` find before to train networks with different sizes of the hidden layer (we will go from 1 to 10) to check how this will impact the performances."
   ]
  },
  {
   "cell_type": "code",
   "execution_count": null,
   "metadata": {},
   "outputs": [],
   "source": [
    "# Take best training params \n",
    "dropout = 0.4\n",
    "lr = 0.001\n",
    "L2_decay = 0.00005\n",
    "\n",
    "loss_fn = torch.nn.MSELoss()\n",
    "num_epochs = 100\n",
    "\n",
    "# Prepare array that will contain the final losses for each architecture \n",
    "final_losses = np.zeros(10)\n",
    "\n",
    "\n",
    "for hidden_size in range(1,11):\n",
    "    \n",
    "    # Generate the network\n",
    "    net = Autoencoder(hidden_size, device, dropout)\n",
    "    net.to(device)\n",
    "\n",
    "    # Define an optimizer\n",
    "    optim = torch.optim.Adam(net.parameters(), lr=lr, weight_decay=L2_decay)\n",
    "\n",
    "    ### Train the model\n",
    "    for epoch in range(num_epochs):\n",
    "        net.train_epoch(train_dataloader, loss_fn, optim, log=False) \n",
    "\n",
    "    # Compute final validation loss\n",
    "    test_loss = net.test_epoch(dataloader=test_dataloader, loss_fn=loss_fn, optimizer=optim) \n",
    "    final_losses[hidden_size-1] = test_loss \n",
    "    print('Network with',hidden_size,'hidden neurons : ',test_loss)"
   ]
  },
  {
   "cell_type": "code",
   "execution_count": null,
   "metadata": {},
   "outputs": [],
   "source": [
    "# Plot losses\n",
    "plt.close('all')\n",
    "plt.plot(final_losses, label='Final loss values')\n",
    "plt.xlabel('Size of the hidden layer')\n",
    "plt.ylabel('Loss')\n",
    "#plt.yscale('log')\n",
    "plt.grid()\n",
    "plt.legend()\n",
    "plt.show()"
   ]
  },
  {
   "cell_type": "markdown",
   "metadata": {},
   "source": [
    "### Train Denoising autoencoder\n",
    "In order to train a denoising autoencoder, we need to build a new dataset containing both the original and the corrupted data. In this way the Dataloader will build samples containing both versions of each image."
   ]
  },
  {
   "cell_type": "code",
   "execution_count": 5,
   "metadata": {},
   "outputs": [
    {
     "ename": "KeyboardInterrupt",
     "evalue": "",
     "output_type": "error",
     "traceback": [
      "\u001b[0;31m---------------------------------------------------------------------------\u001b[0m",
      "\u001b[0;31mKeyboardInterrupt\u001b[0m                         Traceback (most recent call last)",
      "\u001b[0;32m<ipython-input-5-fb52eba3ea57>\u001b[0m in \u001b[0;36m<module>\u001b[0;34m\u001b[0m\n\u001b[1;32m     26\u001b[0m \u001b[0;34m\u001b[0m\u001b[0m\n\u001b[1;32m     27\u001b[0m \u001b[0;31m# Initialize Datasets and their dataloaders\u001b[0m\u001b[0;34m\u001b[0m\u001b[0;34m\u001b[0m\u001b[0;34m\u001b[0m\u001b[0m\n\u001b[0;32m---> 28\u001b[0;31m \u001b[0mcombined_train_dataset\u001b[0m \u001b[0;34m=\u001b[0m \u001b[0mcombined_dataset\u001b[0m\u001b[0;34m(\u001b[0m\u001b[0mtrain_dataset\u001b[0m\u001b[0;34m)\u001b[0m\u001b[0;34m\u001b[0m\u001b[0;34m\u001b[0m\u001b[0m\n\u001b[0m\u001b[1;32m     29\u001b[0m \u001b[0mcombined_test_dataset\u001b[0m \u001b[0;34m=\u001b[0m \u001b[0mcombined_dataset\u001b[0m\u001b[0;34m(\u001b[0m\u001b[0mtest_dataset\u001b[0m\u001b[0;34m)\u001b[0m\u001b[0;34m\u001b[0m\u001b[0;34m\u001b[0m\u001b[0m\n\u001b[1;32m     30\u001b[0m \u001b[0mcombined_train_dataloader\u001b[0m \u001b[0;34m=\u001b[0m \u001b[0mDataLoader\u001b[0m\u001b[0;34m(\u001b[0m\u001b[0mcombined_train_dataset\u001b[0m\u001b[0;34m,\u001b[0m \u001b[0mbatch_size\u001b[0m\u001b[0;34m=\u001b[0m\u001b[0;36m512\u001b[0m\u001b[0;34m,\u001b[0m \u001b[0mshuffle\u001b[0m\u001b[0;34m=\u001b[0m\u001b[0;32mTrue\u001b[0m\u001b[0;34m)\u001b[0m\u001b[0;34m\u001b[0m\u001b[0;34m\u001b[0m\u001b[0m\n",
      "\u001b[0;32m<ipython-input-5-fb52eba3ea57>\u001b[0m in \u001b[0;36m__init__\u001b[0;34m(self, orig_data, std_noise)\u001b[0m\n\u001b[1;32m      5\u001b[0m \u001b[0;34m\u001b[0m\u001b[0m\n\u001b[1;32m      6\u001b[0m         \u001b[0;31m# Generate corrupted dataset\u001b[0m\u001b[0;34m\u001b[0m\u001b[0;34m\u001b[0m\u001b[0;34m\u001b[0m\u001b[0m\n\u001b[0;32m----> 7\u001b[0;31m         \u001b[0mnoised_data\u001b[0m \u001b[0;34m=\u001b[0m \u001b[0mcorrupt_data\u001b[0m\u001b[0;34m.\u001b[0m\u001b[0mGauss_noised_dataset\u001b[0m\u001b[0;34m(\u001b[0m\u001b[0morig_data\u001b[0m\u001b[0;34m,\u001b[0m \u001b[0mstd_noise\u001b[0m\u001b[0;34m=\u001b[0m\u001b[0;36m0.1\u001b[0m\u001b[0;34m)\u001b[0m\u001b[0;34m\u001b[0m\u001b[0;34m\u001b[0m\u001b[0m\n\u001b[0m\u001b[1;32m      8\u001b[0m \u001b[0;34m\u001b[0m\u001b[0m\n\u001b[1;32m      9\u001b[0m         \u001b[0;31m# Store datasets\u001b[0m\u001b[0;34m\u001b[0m\u001b[0;34m\u001b[0m\u001b[0;34m\u001b[0m\u001b[0m\n",
      "\u001b[0;32m~/UNIPD/Neural_Network_and_Deep_Learning_Projects/Lab_05/corrupt_data.py\u001b[0m in \u001b[0;36mGauss_noised_dataset\u001b[0;34m(dataset, std_noise)\u001b[0m\n\u001b[1;32m     20\u001b[0m     \u001b[0mmod_dataset\u001b[0m \u001b[0;34m=\u001b[0m \u001b[0mdataset\u001b[0m\u001b[0;34m\u001b[0m\u001b[0;34m\u001b[0m\u001b[0m\n\u001b[1;32m     21\u001b[0m     \u001b[0;32mfor\u001b[0m \u001b[0mi\u001b[0m \u001b[0;32min\u001b[0m \u001b[0mrange\u001b[0m\u001b[0;34m(\u001b[0m\u001b[0mlen\u001b[0m\u001b[0;34m(\u001b[0m\u001b[0mdataset\u001b[0m\u001b[0;34m)\u001b[0m\u001b[0;34m)\u001b[0m\u001b[0;34m:\u001b[0m\u001b[0;34m\u001b[0m\u001b[0;34m\u001b[0m\u001b[0m\n\u001b[0;32m---> 22\u001b[0;31m         \u001b[0mmod_dataset\u001b[0m\u001b[0;34m[\u001b[0m\u001b[0mi\u001b[0m\u001b[0;34m]\u001b[0m\u001b[0;34m[\u001b[0m\u001b[0;36m0\u001b[0m\u001b[0;34m]\u001b[0m\u001b[0;34m[\u001b[0m\u001b[0;36m0\u001b[0m\u001b[0;34m]\u001b[0m \u001b[0;34m=\u001b[0m \u001b[0mtorch\u001b[0m\u001b[0;34m.\u001b[0m\u001b[0mclamp\u001b[0m\u001b[0;34m(\u001b[0m\u001b[0mdataset\u001b[0m\u001b[0;34m[\u001b[0m\u001b[0mi\u001b[0m\u001b[0;34m]\u001b[0m\u001b[0;34m[\u001b[0m\u001b[0;36m0\u001b[0m\u001b[0;34m]\u001b[0m\u001b[0;34m[\u001b[0m\u001b[0;36m0\u001b[0m\u001b[0;34m]\u001b[0m \u001b[0;34m+\u001b[0m \u001b[0mnoises\u001b[0m\u001b[0;34m[\u001b[0m\u001b[0mi\u001b[0m\u001b[0;34m]\u001b[0m\u001b[0;34m,\u001b[0m \u001b[0mmin\u001b[0m\u001b[0;34m=\u001b[0m\u001b[0;36m0\u001b[0m\u001b[0;34m,\u001b[0m \u001b[0mmax\u001b[0m\u001b[0;34m=\u001b[0m\u001b[0;36m1\u001b[0m\u001b[0;34m)\u001b[0m\u001b[0;34m\u001b[0m\u001b[0;34m\u001b[0m\u001b[0m\n\u001b[0m\u001b[1;32m     23\u001b[0m \u001b[0;34m\u001b[0m\u001b[0m\n\u001b[1;32m     24\u001b[0m     \u001b[0;32mreturn\u001b[0m \u001b[0mmod_dataset\u001b[0m\u001b[0;34m\u001b[0m\u001b[0;34m\u001b[0m\u001b[0m\n",
      "\u001b[0;32m~/anaconda3/lib/python3.7/site-packages/torchvision/datasets/mnist.py\u001b[0m in \u001b[0;36m__getitem__\u001b[0;34m(self, index)\u001b[0m\n\u001b[1;32m     86\u001b[0m             \u001b[0mtuple\u001b[0m\u001b[0;34m:\u001b[0m \u001b[0;34m(\u001b[0m\u001b[0mimage\u001b[0m\u001b[0;34m,\u001b[0m \u001b[0mtarget\u001b[0m\u001b[0;34m)\u001b[0m \u001b[0mwhere\u001b[0m \u001b[0mtarget\u001b[0m \u001b[0;32mis\u001b[0m \u001b[0mindex\u001b[0m \u001b[0mof\u001b[0m \u001b[0mthe\u001b[0m \u001b[0mtarget\u001b[0m \u001b[0;32mclass\u001b[0m\u001b[0;34m.\u001b[0m\u001b[0;34m\u001b[0m\u001b[0;34m\u001b[0m\u001b[0m\n\u001b[1;32m     87\u001b[0m         \"\"\"\n\u001b[0;32m---> 88\u001b[0;31m         \u001b[0mimg\u001b[0m\u001b[0;34m,\u001b[0m \u001b[0mtarget\u001b[0m \u001b[0;34m=\u001b[0m \u001b[0mself\u001b[0m\u001b[0;34m.\u001b[0m\u001b[0mdata\u001b[0m\u001b[0;34m[\u001b[0m\u001b[0mindex\u001b[0m\u001b[0;34m]\u001b[0m\u001b[0;34m,\u001b[0m \u001b[0mint\u001b[0m\u001b[0;34m(\u001b[0m\u001b[0mself\u001b[0m\u001b[0;34m.\u001b[0m\u001b[0mtargets\u001b[0m\u001b[0;34m[\u001b[0m\u001b[0mindex\u001b[0m\u001b[0;34m]\u001b[0m\u001b[0;34m)\u001b[0m\u001b[0;34m\u001b[0m\u001b[0;34m\u001b[0m\u001b[0m\n\u001b[0m\u001b[1;32m     89\u001b[0m \u001b[0;34m\u001b[0m\u001b[0m\n\u001b[1;32m     90\u001b[0m         \u001b[0;31m# doing this so that it is consistent with all other datasets\u001b[0m\u001b[0;34m\u001b[0m\u001b[0;34m\u001b[0m\u001b[0;34m\u001b[0m\u001b[0m\n",
      "\u001b[0;31mKeyboardInterrupt\u001b[0m: "
     ]
    }
   ],
   "source": [
    "class combined_dataset(Dataset):\n",
    "    \n",
    "    # Initialize the dataset\n",
    "    def __init__(self, orig_data, std_noise=0.1):\n",
    "        \n",
    "        # Generate corrupted dataset\n",
    "        noised_data = corrupt_data.Gauss_noised_dataset(orig_data, std_noise=0.1)\n",
    "        \n",
    "        # Store datasets\n",
    "        self.orig_dataset = orig_data        \n",
    "        self.noised_dataset = noised_data\n",
    "        \n",
    "        \n",
    "    # This function returns the noised sample, the original one and the label\n",
    "    def __getitem__(self, idx):\n",
    "              \n",
    "        noised_image = self.noised_dataset[idx][0]\n",
    "        orig_image = self.orig_dataset[idx][0]  \n",
    "        label = self.orig_dataset[idx][1]\n",
    "        return (noised_image, orig_image, label)\n",
    "    \n",
    "    # Function that defines the length of the dataset\n",
    "    def __len__(self):\n",
    "        return len(self.orig_dataset)\n",
    "\n",
    "    \n",
    "# Initialize Datasets and their dataloaders\n",
    "combined_train_dataset = combined_dataset(train_dataset)\n",
    "combined_test_dataset = combined_dataset(test_dataset)\n",
    "combined_train_dataloader = DataLoader(combined_train_dataset, batch_size=512, shuffle=True)\n",
    "combined_test_dataloader = DataLoader(combined_test_dataset, batch_size=512, shuffle=False)"
   ]
  },
  {
   "cell_type": "code",
   "execution_count": null,
   "metadata": {},
   "outputs": [],
   "source": [
    "# Generate the network\n",
    "net = Autoencoder(encoded_space_dim, device, dropout)\n",
    "net.to(device)\n",
    "\n",
    "# Define parameters\n",
    "dropout = 0.2\n",
    "lr = 0.002\n",
    "L2_decay = 0.00001\n",
    "\n",
    "# Define a loss function\n",
    "loss_fn = torch.nn.MSELoss()\n",
    "    \n",
    "# Define an optimizer\n",
    "optim = torch.optim.Adam(net.parameters(), lr=lr, weight_decay=L2_decay)\n",
    "\n",
    "num_epochs = 60\n",
    "\n",
    "### TRAIN THE NETWORK\n",
    "\n",
    "for epoch in range(num_epochs):\n",
    "    print('EPOCH %d/%d' % (epoch + 1, num_epochs))\n",
    "\n",
    "    ### Training\n",
    "    net.train_epoch(composed_train_dataloader, loss_fn, optim, denoise_mode=True) \n",
    "\n",
    "    ### Validation\n",
    "    val_loss = net.test_epoch(composed_test_dataloader, loss_fn, denoise_mode=True) \n",
    "    # Print Validation loss\n",
    "    print('VALIDATION - EPOCH %d/%d - loss: %f\\n' % (epoch + 1, num_epochs, val_loss))"
   ]
  },
  {
   "cell_type": "code",
   "execution_count": null,
   "metadata": {},
   "outputs": [],
   "source": [
    "# Check how the new model denoise data by plotting the filtered samples\n",
    "idx = 42\n",
    "testing_tools.plot_comparison(net, composed_test_dataset[idx])"
   ]
  },
  {
   "cell_type": "markdown",
   "metadata": {},
   "source": [
    "### Check smooth sampling from latent space\n",
    "First of all, we should check the distributions of each component of the encodent representation of the data. "
   ]
  },
  {
   "cell_type": "code",
   "execution_count": 3,
   "metadata": {},
   "outputs": [
    {
     "data": {
      "text/plain": [
       "Autoencoder(\n",
       "  (encoder_cnn): Sequential(\n",
       "    (0): Conv2d(1, 8, kernel_size=(3, 3), stride=(2, 2), padding=(1, 1))\n",
       "    (1): Dropout(p=0, inplace=False)\n",
       "    (2): ReLU(inplace=True)\n",
       "    (3): Conv2d(8, 16, kernel_size=(3, 3), stride=(2, 2), padding=(1, 1))\n",
       "    (4): Dropout(p=0, inplace=False)\n",
       "    (5): ReLU(inplace=True)\n",
       "    (6): Conv2d(16, 32, kernel_size=(3, 3), stride=(2, 2))\n",
       "    (7): Dropout(p=0, inplace=False)\n",
       "    (8): ReLU(inplace=True)\n",
       "  )\n",
       "  (encoder_lin): Sequential(\n",
       "    (0): Linear(in_features=288, out_features=64, bias=True)\n",
       "    (1): Dropout(p=0, inplace=False)\n",
       "    (2): ReLU(inplace=True)\n",
       "    (3): Linear(in_features=64, out_features=4, bias=True)\n",
       "  )\n",
       "  (decoder_lin): Sequential(\n",
       "    (0): Linear(in_features=4, out_features=64, bias=True)\n",
       "    (1): Dropout(p=0, inplace=False)\n",
       "    (2): ReLU(inplace=True)\n",
       "    (3): Linear(in_features=64, out_features=288, bias=True)\n",
       "    (4): Dropout(p=0, inplace=False)\n",
       "    (5): ReLU(inplace=True)\n",
       "  )\n",
       "  (decoder_conv): Sequential(\n",
       "    (0): ConvTranspose2d(32, 16, kernel_size=(3, 3), stride=(2, 2))\n",
       "    (1): Dropout(p=0, inplace=False)\n",
       "    (2): ReLU(inplace=True)\n",
       "    (3): ConvTranspose2d(16, 8, kernel_size=(3, 3), stride=(2, 2), padding=(1, 1), output_padding=(1, 1))\n",
       "    (4): Dropout(p=0, inplace=False)\n",
       "    (5): ReLU(inplace=True)\n",
       "    (6): ConvTranspose2d(8, 1, kernel_size=(3, 3), stride=(2, 2), padding=(1, 1), output_padding=(1, 1))\n",
       "  )\n",
       ")"
      ]
     },
     "execution_count": 3,
     "metadata": {},
     "output_type": "execute_result"
    }
   ],
   "source": [
    "# If network is not loaded, load it\n",
    "net = Autoencoder(4, device)\n",
    "weights = torch.load('best_net_params_4.pth', map_location=device)\n",
    "net.load_state_dict(weights)\n",
    "net.to(device)"
   ]
  },
  {
   "cell_type": "code",
   "execution_count": 4,
   "metadata": {},
   "outputs": [
    {
     "name": "stderr",
     "output_type": "stream",
     "text": [
      "100%|██████████| 10000/10000 [00:09<00:00, 1058.59it/s]\n"
     ]
    }
   ],
   "source": [
    "# Get encoded distribution of the test dataset\n",
    "encoded_images = net.get_enc_representation(test_dataset, return_label=True)   "
   ]
  },
  {
   "cell_type": "code",
   "execution_count": 6,
   "metadata": {},
   "outputs": [
    {
     "name": "stdout",
     "output_type": "stream",
     "text": [
      "GIF is stored\n"
     ]
    }
   ],
   "source": [
    "testing_tools.morphing_digits_gif(net, encoded_images, start_digit=9, end_digit=6)"
   ]
  },
  {
   "cell_type": "code",
   "execution_count": 6,
   "metadata": {
    "scrolled": true
   },
   "outputs": [
    {
     "name": "stdout",
     "output_type": "stream",
     "text": [
      "Feature number 0\n",
      "\tMean = -4.3181796\n",
      "\tSTD  = 8.040879\n"
     ]
    },
    {
     "data": {
      "image/png": "[encoded data removed]",
      "text/plain": [
       "<Figure size 432x288 with 1 Axes>"
      ]
     },
     "metadata": {
      "needs_background": "light"
     },
     "output_type": "display_data"
    },
    {
     "name": "stdout",
     "output_type": "stream",
     "text": [
      "Feature number 1\n",
      "\tMean = 1.4757191\n",
      "\tSTD  = 7.146776\n"
     ]
    },
    {
     "data": {
      "image/png": "[encoded data removed]",
      "text/plain": [
       "<Figure size 432x288 with 1 Axes>"
      ]
     },
     "metadata": {
      "needs_background": "light"
     },
     "output_type": "display_data"
    },
    {
     "name": "stdout",
     "output_type": "stream",
     "text": [
      "Feature number 2\n",
      "\tMean = 0.13344993\n",
      "\tSTD  = 9.342769\n"
     ]
    },
    {
     "data": {
      "image/png": "[encoded data removed]",
      "text/plain": [
       "<Figure size 432x288 with 1 Axes>"
      ]
     },
     "metadata": {
      "needs_background": "light"
     },
     "output_type": "display_data"
    },
    {
     "name": "stdout",
     "output_type": "stream",
     "text": [
      "Feature number 3\n",
      "\tMean = 0.3470442\n",
      "\tSTD  = 6.943515\n"
     ]
    },
    {
     "data": {
      "image/png": "[encoded data removed]",
      "text/plain": [
       "<Figure size 432x288 with 1 Axes>"
      ]
     },
     "metadata": {
      "needs_background": "light"
     },
     "output_type": "display_data"
    }
   ],
   "source": [
    "# Plot 4 histograms (one for each encoded feature)\n",
    "for i in range(4):\n",
    "    \n",
    "    print('Feature number', i)\n",
    "    print('\\tMean =', np.mean(encoded_images[:,i]))\n",
    "    print('\\tSTD  =', np.std(encoded_images[:,i]))\n",
    "    plt.hist(encoded_images[:,i], bins=50)\n",
    "    plt.xlabel('Values of the encoded feature')\n",
    "    plt.show()"
   ]
  },
  {
   "cell_type": "markdown",
   "metadata": {},
   "source": [
    "Now we can choose two points, consider the line that connects them. Take many equidistant points on it and decode the correspondent sample. We will see if there is a smooth evolution of these samples."
   ]
  },
  {
   "cell_type": "code",
   "execution_count": 7,
   "metadata": {},
   "outputs": [
    {
     "name": "stdout",
     "output_type": "stream",
     "text": [
      "GIF is stored\n"
     ]
    }
   ],
   "source": [
    "import imageio\n",
    "\n",
    "# Define starting and ending point of the evolution as (mean-std, mean+std)\n",
    "mean_vals = encoded_images.mean(axis=0)\n",
    "std_vals = encoded_images.std(axis=0)\n",
    "start = mean_vals - std_vals/5\n",
    "finish = mean_vals + std_vals/5\n",
    "\n",
    "# Compute array with intermediate points\n",
    "n_points = 100\n",
    "middle_points = np.array([ np.linspace(start[0], finish[0], n_points), \n",
    "                           np.linspace(start[1], finish[1], n_points),    \n",
    "                           np.linspace(start[2], finish[2], n_points),    \n",
    "                           np.linspace(start[3], finish[3], n_points) ])\n",
    "\n",
    "# Decode every intermediate point and store the correspondent image in a temp folder\n",
    "os.makedirs('tmp_gif_dir')\n",
    "for i in range(n_points):\n",
    "    filename = 'tmp_gif_dir/image_'+str(i).zfill(2)+'.png'\n",
    "    net.generate_from_encoded_sample(middle_points[:,i], filename)\n",
    "\n",
    "# Order all filenames\n",
    "all_filenames = os.listdir('tmp_gif_dir')\n",
    "all_filenames = sorted(all_filenames)\n",
    "\n",
    "# Build the GIF and store it\n",
    "images = []\n",
    "for filename in all_filenames:\n",
    "    images.append(imageio.imread('tmp_gif_dir/'+filename))\n",
    "imageio.mimsave('smooth_sampling_evolution.gif', images)\n",
    "print('GIF is stored')\n",
    "\n",
    "# Delete temp files and folder\n",
    "for filename in all_filenames:\n",
    "    os.remove('tmp_gif_dir/'+filename)\n",
    "os.rmdir('tmp_gif_dir/')"
   ]
  },
  {
   "cell_type": "code",
   "execution_count": 32,
   "metadata": {},
   "outputs": [
    {
     "data": {
      "text/plain": [
       "array([-6.305689 ,  8.034747 ,  6.7432537, -1.5441432], dtype=float32)"
      ]
     },
     "execution_count": 32,
     "metadata": {},
     "output_type": "execute_result"
    }
   ],
   "source": [
    "points_4 = encoded_images[encoded_images[:,1]==4]\n",
    "np.stack(points_4[:,0]).mean(axis=0)"
   ]
  },
  {
   "cell_type": "code",
   "execution_count": null,
   "metadata": {},
   "outputs": [],
   "source": []
  },
  {
   "cell_type": "markdown",
   "metadata": {},
   "source": [
    "## Test MNIST.mat file"
   ]
  },
  {
   "cell_type": "code",
   "execution_count": 3,
   "metadata": {},
   "outputs": [],
   "source": [
    "import scipy.io as sio\n",
    "\n",
    "# Load the MNIST dataset\n",
    "data = sio.loadmat('../Lab_03/MNIST.mat')\n",
    "images = torch.Tensor(data['input_images'])\n",
    "labels = torch.LongTensor(data['output_labels']).squeeze()"
   ]
  },
  {
   "cell_type": "code",
   "execution_count": 12,
   "metadata": {},
   "outputs": [
    {
     "data": {
      "text/plain": [
       "60000"
      ]
     },
     "execution_count": 12,
     "metadata": {},
     "output_type": "execute_result"
    }
   ],
   "source": [
    "len(images.reshape(-1,1,28,28))"
   ]
  },
  {
   "cell_type": "code",
   "execution_count": 7,
   "metadata": {},
   "outputs": [
    {
     "data": {
      "text/plain": [
       "Dataset MNIST\n",
       "    Number of datapoints: 10000\n",
       "    Root location: ../datasets\n",
       "    Split: Test\n",
       "    StandardTransform\n",
       "Transform: Compose(\n",
       "               ToTensor()\n",
       "           )"
      ]
     },
     "execution_count": 7,
     "metadata": {},
     "output_type": "execute_result"
    }
   ],
   "source": [
    "test_dataset"
   ]
  },
  {
   "cell_type": "code",
   "execution_count": 74,
   "metadata": {},
   "outputs": [],
   "source": [
    "# Define the dataset class for 'MNIST.mat'\n",
    "class MNISTmat_dataset(Dataset):\n",
    "    \n",
    "    # Initialize the dataset\n",
    "    def __init__(self, filename):\n",
    "        \n",
    "        # Load the MNIST dataset\n",
    "        data = sio.loadmat(filename)\n",
    "        self.images = torch.Tensor(data['input_images']).reshape(-1,1,28,28)\n",
    "        self.labels = torch.Tensor(data['output_labels'])\n",
    "\n",
    "    # This function returns the noised sample, the original one and the label\n",
    "    def __getitem__(self, idx):\n",
    "        return (self.images[idx], self.labels[idx])\n",
    "    \n",
    "    # Function that defines the length of the dataset\n",
    "    def __len__(self):\n",
    "        return len(self.images)\n",
    "\n",
    "    \n",
    "# Initialize Datasets and their dataloaders\n",
    "mat_dataset = MNISTmat_dataset('../Lab_03/MNIST.mat')\n",
    "mat_dataloader = DataLoader(mat_dataset, batch_size=512, shuffle=False)\n"
   ]
  },
  {
   "cell_type": "code",
   "execution_count": 76,
   "metadata": {},
   "outputs": [
    {
     "name": "stdout",
     "output_type": "stream",
     "text": [
      "MSE = 0.2279273122549057\n"
     ]
    }
   ],
   "source": [
    "# Define the loss function\n",
    "loss_fn = torch.nn.MSELoss()\n",
    "\n",
    "# Test net without using the implemented method\n",
    "# because we also want all the reconstructed images\n",
    "with torch.no_grad(): \n",
    "    conc_out = torch.Tensor().float().to(device)\n",
    "    conc_label = torch.Tensor().float().to(device)\n",
    "    conc_digits = torch.Tensor().float().to(device)\n",
    "    \n",
    "    for sample_batch in mat_dataloader:\n",
    "\n",
    "        # Extract data and move tensors to the selected device\n",
    "        image_batch = sample_batch[0].to(device)\n",
    "        digit_batch = sample_batch[1].to(device)\n",
    "        \n",
    "        # Forward pass\n",
    "        out = net(image_batch)\n",
    "        \n",
    "        # Concatenate with previous outputs\n",
    "        conc_out = torch.cat([conc_out, out])\n",
    "        conc_label = torch.cat([conc_label, image_batch])\n",
    "        conc_digits = torch.cat([conc_digits, digit_batch])\n",
    "        \n",
    "\n",
    "    # Evaluate global loss\n",
    "    test_loss = loss_fn(conc_out, conc_label)\n",
    "    \n",
    "# Print MSE \n",
    "print('MSE =', test_loss.item())"
   ]
  },
  {
   "cell_type": "code",
   "execution_count": 57,
   "metadata": {},
   "outputs": [
    {
     "ename": "AttributeError",
     "evalue": "'Tensor' object has no attribute 'items'",
     "output_type": "error",
     "traceback": [
      "\u001b[0;31m---------------------------------------------------------------------------\u001b[0m",
      "\u001b[0;31mAttributeError\u001b[0m                            Traceback (most recent call last)",
      "\u001b[0;32m<ipython-input-57-4fef9502cf1f>\u001b[0m in \u001b[0;36m<module>\u001b[0;34m\u001b[0m\n\u001b[0;32m----> 1\u001b[0;31m \u001b[0msio\u001b[0m\u001b[0;34m.\u001b[0m\u001b[0msavemat\u001b[0m\u001b[0;34m(\u001b[0m\u001b[0;34m'test_mat_file.mat'\u001b[0m\u001b[0;34m,\u001b[0m \u001b[0mconc_out\u001b[0m\u001b[0;34m.\u001b[0m\u001b[0mreshape\u001b[0m\u001b[0;34m(\u001b[0m\u001b[0mlen\u001b[0m\u001b[0;34m(\u001b[0m\u001b[0mconc_out\u001b[0m\u001b[0;34m)\u001b[0m\u001b[0;34m,\u001b[0m \u001b[0;36m784\u001b[0m\u001b[0;34m)\u001b[0m\u001b[0;34m)\u001b[0m\u001b[0;34m\u001b[0m\u001b[0;34m\u001b[0m\u001b[0m\n\u001b[0m",
      "\u001b[0;32m~/anaconda3/lib/python3.7/site-packages/scipy/io/matlab/mio.py\u001b[0m in \u001b[0;36msavemat\u001b[0;34m(file_name, mdict, appendmat, format, long_field_names, do_compression, oned_as)\u001b[0m\n\u001b[1;32m    277\u001b[0m         \u001b[0;32melse\u001b[0m\u001b[0;34m:\u001b[0m\u001b[0;34m\u001b[0m\u001b[0;34m\u001b[0m\u001b[0m\n\u001b[1;32m    278\u001b[0m             \u001b[0;32mraise\u001b[0m \u001b[0mValueError\u001b[0m\u001b[0;34m(\u001b[0m\u001b[0;34m\"Format should be '4' or '5'\"\u001b[0m\u001b[0;34m)\u001b[0m\u001b[0;34m\u001b[0m\u001b[0;34m\u001b[0m\u001b[0m\n\u001b[0;32m--> 279\u001b[0;31m         \u001b[0mMW\u001b[0m\u001b[0;34m.\u001b[0m\u001b[0mput_variables\u001b[0m\u001b[0;34m(\u001b[0m\u001b[0mmdict\u001b[0m\u001b[0;34m)\u001b[0m\u001b[0;34m\u001b[0m\u001b[0;34m\u001b[0m\u001b[0m\n\u001b[0m\u001b[1;32m    280\u001b[0m \u001b[0;34m\u001b[0m\u001b[0m\n\u001b[1;32m    281\u001b[0m \u001b[0;34m\u001b[0m\u001b[0m\n",
      "\u001b[0;32m~/anaconda3/lib/python3.7/site-packages/scipy/io/matlab/mio5.py\u001b[0m in \u001b[0;36mput_variables\u001b[0;34m(self, mdict, write_header)\u001b[0m\n\u001b[1;32m    832\u001b[0m             \u001b[0mself\u001b[0m\u001b[0;34m.\u001b[0m\u001b[0mwrite_file_header\u001b[0m\u001b[0;34m(\u001b[0m\u001b[0;34m)\u001b[0m\u001b[0;34m\u001b[0m\u001b[0;34m\u001b[0m\u001b[0m\n\u001b[1;32m    833\u001b[0m         \u001b[0mself\u001b[0m\u001b[0;34m.\u001b[0m\u001b[0m_matrix_writer\u001b[0m \u001b[0;34m=\u001b[0m \u001b[0mVarWriter5\u001b[0m\u001b[0;34m(\u001b[0m\u001b[0mself\u001b[0m\u001b[0;34m)\u001b[0m\u001b[0;34m\u001b[0m\u001b[0;34m\u001b[0m\u001b[0m\n\u001b[0;32m--> 834\u001b[0;31m         \u001b[0;32mfor\u001b[0m \u001b[0mname\u001b[0m\u001b[0;34m,\u001b[0m \u001b[0mvar\u001b[0m \u001b[0;32min\u001b[0m \u001b[0mmdict\u001b[0m\u001b[0;34m.\u001b[0m\u001b[0mitems\u001b[0m\u001b[0;34m(\u001b[0m\u001b[0;34m)\u001b[0m\u001b[0;34m:\u001b[0m\u001b[0;34m\u001b[0m\u001b[0;34m\u001b[0m\u001b[0m\n\u001b[0m\u001b[1;32m    835\u001b[0m             \u001b[0;32mif\u001b[0m \u001b[0mname\u001b[0m\u001b[0;34m[\u001b[0m\u001b[0;36m0\u001b[0m\u001b[0;34m]\u001b[0m \u001b[0;34m==\u001b[0m \u001b[0;34m'_'\u001b[0m\u001b[0;34m:\u001b[0m\u001b[0;34m\u001b[0m\u001b[0;34m\u001b[0m\u001b[0m\n\u001b[1;32m    836\u001b[0m                 \u001b[0;32mcontinue\u001b[0m\u001b[0;34m\u001b[0m\u001b[0;34m\u001b[0m\u001b[0m\n",
      "\u001b[0;31mAttributeError\u001b[0m: 'Tensor' object has no attribute 'items'"
     ]
    }
   ],
   "source": [
    "sio.savemat('test_mat_file.mat', conc_out.reshape(len(conc_out), 784))"
   ]
  },
  {
   "cell_type": "code",
   "execution_count": 79,
   "metadata": {},
   "outputs": [],
   "source": [
    "mat_dict = {'__header__': b'MATLAB 5.0 MAT-file, Reconstructed MNIST images',\n",
    "            '__version__': '1.0',\n",
    "            '__globals': [],\n",
    "            'input_images': np.array(conc_out.reshape(len(conc_out), 784)),\n",
    "            'output_labels': np.array(conc_"
   ]
  },
  {
   "cell_type": "code",
   "execution_count": 71,
   "metadata": {},
   "outputs": [
    {
     "data": {
      "text/plain": [
       "array([[0.],\n",
       "       [8.],\n",
       "       [4.],\n",
       "       ...,\n",
       "       [9.],\n",
       "       [2.],\n",
       "       [1.]], dtype=float32)"
      ]
     },
     "execution_count": 71,
     "metadata": {},
     "output_type": "execute_result"
    }
   ],
   "source": [
    "data['output_labels']"
   ]
  },
  {
   "cell_type": "code",
   "execution_count": 77,
   "metadata": {},
   "outputs": [
    {
     "data": {
      "text/plain": [
       "tensor([[0.],\n",
       "        [8.],\n",
       "        [4.],\n",
       "        ...,\n",
       "        [9.],\n",
       "        [2.],\n",
       "        [1.]])"
      ]
     },
     "execution_count": 77,
     "metadata": {},
     "output_type": "execute_result"
    }
   ],
   "source": [
    "conc_digits"
   ]
  },
  {
   "cell_type": "code",
   "execution_count": null,
   "metadata": {},
   "outputs": [],
   "source": []
  }
 ],
 "metadata": {
  "kernelspec": {
   "display_name": "Python 3",
   "language": "python",
   "name": "python3"
  },
  "language_info": {
   "codemirror_mode": {
    "name": "ipython",
    "version": 3
   },
   "file_extension": ".py",
   "mimetype": "text/x-python",
   "name": "python",
   "nbconvert_exporter": "python",
   "pygments_lexer": "ipython3",
   "version": "3.7.3"
  }
 },
 "nbformat": 4,
 "nbformat_minor": 2
}
