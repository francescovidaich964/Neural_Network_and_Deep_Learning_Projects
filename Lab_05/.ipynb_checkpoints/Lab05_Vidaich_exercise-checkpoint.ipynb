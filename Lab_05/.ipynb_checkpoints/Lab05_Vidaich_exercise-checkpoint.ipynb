{
 "cells": [
  {
   "cell_type": "markdown",
   "metadata": {},
   "source": [
    "# Lab05 - Autoencoders for digit reconstruction\n",
    "\n",
    "In this assignment we will build an autoencoder to that will reconstruct digits from in the MNIST datset."
   ]
  },
  {
   "cell_type": "code",
   "execution_count": 1,
   "metadata": {},
   "outputs": [
    {
     "name": "stdout",
     "output_type": "stream",
     "text": [
      "Device: cpu\n"
     ]
    }
   ],
   "source": [
    "import os\n",
    "import torch\n",
    "import numpy as np\n",
    "import matplotlib.pyplot as plt\n",
    "import random\n",
    "import time\n",
    "\n",
    "from torch import nn\n",
    "from torch.utils.data import Dataset, DataLoader\n",
    "from torchvision import transforms\n",
    "from torchvision.datasets import MNIST\n",
    "\n",
    "from tqdm import tqdm\n",
    "\n",
    "\n",
    "### If cuda is available set the device to GPU\n",
    "if torch.cuda.is_available():\n",
    "    device = torch.device(\"cuda\")\n",
    "    torch.set_default_tensor_type(torch.cuda.FloatTensor)\n",
    "else:\n",
    "    device = torch.device(\"cpu\")\n",
    "print('Device:', device)\n",
    "\n",
    "\n",
    "# Import myfunctions and classes\n",
    "from autoencoder_structure import Autoencoder\n",
    "import testing_tools\n",
    "import corrupt_data\n",
    "\n",
    "\n",
    "# best learning params (obtained from Random Search): dropout, lr, L2_decay\n",
    "best_params = (0.15067948366589032, 0.0003469967766478119, 4.6490871004758405e-06)\n"
   ]
  },
  {
   "cell_type": "code",
   "execution_count": 2,
   "metadata": {},
   "outputs": [],
   "source": [
    "train_transform = transforms.Compose([\n",
    "    transforms.ToTensor(),\n",
    "])\n",
    "\n",
    "test_transform = transforms.Compose([\n",
    "    transforms.ToTensor(),\n",
    "])\n",
    "\n",
    "# Load datasets\n",
    "train_dataset = MNIST('../datasets', train=True,  download=True, transform=train_transform)\n",
    "test_dataset  = MNIST('../datasets', train=False, download=True, transform=test_transform)\n",
    "\n",
    "\n",
    "# Define dataloader\n",
    "train_dataloader = DataLoader(train_dataset, batch_size=512, shuffle=True)\n",
    "test_dataloader = DataLoader(test_dataset, batch_size=512, shuffle=False)"
   ]
  },
  {
   "cell_type": "markdown",
   "metadata": {},
   "source": [
    "Plot some sample from the dataset"
   ]
  },
  {
   "cell_type": "code",
   "execution_count": 6,
   "metadata": {},
   "outputs": [
    {
     "data": {
      "image/png": "[encoded data removed]",
      "text/plain": [
       "<Figure size 576x576 with 25 Axes>"
      ]
     },
     "metadata": {},
     "output_type": "display_data"
    }
   ],
   "source": [
    "plt.close('all')\n",
    "fig, axs = plt.subplots(5, 5, figsize=(8,8))\n",
    "for ax in axs.flatten():\n",
    "    img, label = random.choice(train_dataset)\n",
    "    ax.imshow(img.squeeze().numpy(), cmap='gist_gray')\n",
    "    ax.set_title('Label: %d' % label)\n",
    "    ax.set_xticks([])\n",
    "    ax.set_yticks([])\n",
    "plt.tight_layout()"
   ]
  },
  {
   "cell_type": "markdown",
   "metadata": {},
   "source": [
    "### Autoencoder class"
   ]
  },
  {
   "cell_type": "markdown",
   "metadata": {},
   "source": [
    "Initialize the network and test it on some examples to check its output shape (we want it to be equal to the input shape)"
   ]
  },
  {
   "cell_type": "code",
   "execution_count": 14,
   "metadata": {},
   "outputs": [
    {
     "name": "stdout",
     "output_type": "stream",
     "text": [
      "Original image shape: torch.Size([1, 1, 28, 28])\n",
      "Encoded image shape: torch.Size([1, 4])\n",
      "Decoded image shape: torch.Size([1, 1, 28, 28])\n"
     ]
    }
   ],
   "source": [
    "### Initialize the network\n",
    "encoded_space_dim = 4\n",
    "net = Autoencoder(encoded_space_dim, device, dropout=0.3)\n",
    "# Move all the network parameters to the selected device (if they are already on that device nothing happens)\n",
    "net.to(device)\n",
    "\n",
    "\n",
    "### Some examples\n",
    "# Take an input image (remember to add the batch dimension)\n",
    "img = test_dataset[0][0].unsqueeze(0).to(device)\n",
    "print('Original image shape:', img.shape)\n",
    "# Encode the image\n",
    "img_enc = net.encode(img)\n",
    "print('Encoded image shape:', img_enc.shape)\n",
    "# Decode the image\n",
    "dec_img = net.decode(img_enc)\n",
    "print('Decoded image shape:', dec_img.shape)"
   ]
  },
  {
   "cell_type": "markdown",
   "metadata": {},
   "source": [
    "## Train the model\n",
    "To perform the different trainings, the following procedures will call the `train_epoch()` and `test_epoch()` methods of the `Autoencoder` class."
   ]
  },
  {
   "cell_type": "markdown",
   "metadata": {},
   "source": [
    "### Training with Random Search\n",
    "\n",
    "Here we will search the best hyperparameters tuning the learning process through a Random Search. In particular we will search for the best values of `lr`,`weight_decay` and `dropout`. The following class has to generate combinations of those parameters, sampling them from their correspondent distribution."
   ]
  },
  {
   "cell_type": "code",
   "execution_count": 5,
   "metadata": {},
   "outputs": [],
   "source": [
    "# Class that generates random combinations of the \n",
    "# parameters to perform the random search\n",
    "class Param_generator():\n",
    "    \n",
    "    def __init__(self, drop_limits, lr_limits, L2_limits):\n",
    "        \n",
    "        self.drop_min = drop_limits[0]\n",
    "        self.drop_max = drop_limits[1]\n",
    "        self.lr_min_exp = lr_limits[0]\n",
    "        self.lr_max_exp = lr_limits[1]\n",
    "        self.L2_min_exp = L2_limits[0]\n",
    "        self.L2_max_exp = L2_limits[1]    \n",
    "        \n",
    "        \n",
    "    def gen_values(self, n_combins):\n",
    "        \n",
    "        drop_vals = np.random.uniform(self.drop_min, self.drop_max, n_combins)\n",
    "        lr_vals = 10**(np.random.uniform(self.lr_min_exp, self.lr_max_exp, n_combins))\n",
    "        L2_vals = 10**(np.random.uniform(self.L2_min_exp, self.L2_max_exp, n_combins))              \n",
    "        \n",
    "        combins_list = [ (drop_vals[i], lr_vals[i], L2_vals[i]) for i in range(n_combins)]\n",
    "        return combins_list\n",
    "\n",
    "    \n",
    "# Initialize parameters generator giving the bounds of each distribution, the optims and their probs\n",
    "pars_generator = Param_generator( [0,0.5], [-4,-1], [-6,-2] )"
   ]
  },
  {
   "cell_type": "markdown",
   "metadata": {},
   "source": [
    "Here we will perform the Random Search by defining and training a network for each combination of parameters: The best one will be kept for the following points of the exercise."
   ]
  },
  {
   "cell_type": "code",
   "execution_count": 7,
   "metadata": {
    "scrolled": true
   },
   "outputs": [
    {
     "name": "stdout",
     "output_type": "stream",
     "text": [
      "Starting Random Search process\n",
      "\n",
      "Network trained with: Dropout = 0.19916777384683357 , lr = 0.013907470180713241 , L2_decay = 0.0003225998608423782\n",
      "Final loss value: \t tensor(0.0624)\n",
      "\n",
      "Network trained with: Dropout = 0.5415932465959474 , lr = 0.00044357182617396455 , L2_decay = 0.001477749864153608\n",
      "Final loss value: \t tensor(0.0692)\n",
      "\n",
      "Network trained with: Dropout = 0.1755787939991402 , lr = 0.01170634146073832 , L2_decay = 0.00503069845762583\n",
      "Final loss value: \t tensor(0.0973)\n",
      "\n",
      "Network trained with: Dropout = 0.46436109887134747 , lr = 0.025554566941720903 , L2_decay = 0.0003529469993390415\n",
      "Final loss value: \t tensor(0.0688)\n",
      "\n",
      "Network trained with: Dropout = 0.401310596594409 , lr = 0.053794951615432456 , L2_decay = 0.0016432936391679422\n",
      "Final loss value: \t tensor(0.0701)\n",
      "\n",
      "Network trained with: Dropout = 0.17269033958165517 , lr = 0.003326678884335614 , L2_decay = 0.009537568305161415\n",
      "Final loss value: \t tensor(0.0986)\n",
      "\n",
      "Network trained with: Dropout = 0.4392781254946586 , lr = 0.0002492087988933903 , L2_decay = 0.0015403386995937957\n",
      "Final loss value: \t tensor(0.0686)\n",
      "\n",
      "Network trained with: Dropout = 0.11810620042760693 , lr = 0.01698376557353535 , L2_decay = 0.0063184047177505444\n",
      "Final loss value: \t tensor(0.0976)\n",
      "\n",
      "Network trained with: Dropout = 0.05404505805020272 , lr = 0.0005075701957367028 , L2_decay = 0.0005428896420836226\n",
      "Final loss value: \t tensor(0.0632)\n",
      "\n",
      "Network trained with: Dropout = 0.2655459760553221 , lr = 0.001470295522480067 , L2_decay = 2.5070421380629295e-06\n",
      "Final loss value: \t tensor(0.0347)\n",
      "\n",
      "Network trained with: Dropout = 0.27999667090571784 , lr = 0.0008409147420577766 , L2_decay = 1.6203122647205594e-05\n",
      "Final loss value: \t tensor(0.0353)\n",
      "\n",
      "Network trained with: Dropout = 0.224675432882578 , lr = 0.0044153123240242 , L2_decay = 9.006374093890636e-05\n",
      "Final loss value: \t tensor(0.0376)\n",
      "\n",
      "Network trained with: Dropout = 0.2487556785302855 , lr = 0.004217990064447656 , L2_decay = 4.77874080959212e-05\n",
      "Final loss value: \t tensor(0.0365)\n",
      "\n",
      "Network trained with: Dropout = 0.05056522799485392 , lr = 0.005860044633184849 , L2_decay = 0.00017230163338678104\n",
      "Final loss value: \t tensor(0.0600)\n",
      "\n",
      "Network trained with: Dropout = 0.15067948366589032 , lr = 0.0003469967766478119 , L2_decay = 4.6490871004758405e-06\n",
      "Final loss value: \t tensor(0.0313)\n",
      "\n",
      "Network trained with: Dropout = 0.5759089298839865 , lr = 0.005651232098583986 , L2_decay = 6.183662229815631e-06\n",
      "Final loss value: \t tensor(0.0491)\n",
      "\n",
      "Network trained with: Dropout = 0.11173663941374014 , lr = 0.01025630445724329 , L2_decay = 0.0034364230774213433\n",
      "Final loss value: \t tensor(0.0770)\n",
      "\n",
      "Network trained with: Dropout = 0.42986119920240023 , lr = 0.0010165471041371837 , L2_decay = 1.6206822884178793e-05\n",
      "Final loss value: \t tensor(0.0406)\n",
      "\n",
      "Network trained with: Dropout = 0.018621290462960172 , lr = 0.0013064552250904747 , L2_decay = 0.009598826477578839\n",
      "Final loss value: \t tensor(0.0987)\n",
      "\n",
      "Network trained with: Dropout = 0.5072450127639441 , lr = 0.009569648225180753 , L2_decay = 0.0001461258728942279\n",
      "Final loss value: \t tensor(0.0644)\n",
      "\n",
      "Network trained with: Dropout = 0.2349717812290556 , lr = 0.00011882870598506005 , L2_decay = 1.9472126071063205e-05\n",
      "Final loss value: \t tensor(0.0376)\n",
      "\n",
      "Network trained with: Dropout = 0.24876739897764613 , lr = 0.025940244748171193 , L2_decay = 0.0002259895660960475\n",
      "Final loss value: \t tensor(0.0635)\n",
      "\n",
      "Network trained with: Dropout = 0.3631341986854317 , lr = 0.00022155516379956304 , L2_decay = 0.005731682195609444\n",
      "Final loss value: \t tensor(0.0985)\n",
      "\n",
      "Network trained with: Dropout = 0.23950739386270356 , lr = 0.0021852695198529633 , L2_decay = 0.000255188630390466\n",
      "Final loss value: \t tensor(0.0619)\n",
      "\n",
      "Network trained with: Dropout = 0.5798551807657009 , lr = 0.00107155155042167 , L2_decay = 4.381646643445765e-05\n",
      "Final loss value: \t tensor(0.0512)\n",
      "\n",
      "Network trained with: Dropout = 0.4544039634797905 , lr = 0.0008556524447078629 , L2_decay = 0.0003747434321013914\n",
      "Final loss value: \t tensor(0.0644)\n",
      "\n",
      "Network trained with: Dropout = 0.3529013520654095 , lr = 0.0008355241637539457 , L2_decay = 0.009641747278517819\n",
      "Final loss value: \t tensor(0.0987)\n",
      "\n",
      "Network trained with: Dropout = 0.4829524657648369 , lr = 0.0014938080017040084 , L2_decay = 9.054140077223319e-05\n",
      "Final loss value: \t tensor(0.0633)\n",
      "\n",
      "Network trained with: Dropout = 0.5033566415598316 , lr = 0.009273223935305615 , L2_decay = 4.271644153904566e-05\n",
      "Final loss value: \t tensor(0.0476)\n",
      "\n",
      "Network trained with: Dropout = 0.4030838789954136 , lr = 0.0020057324141236686 , L2_decay = 0.0017536603405668646\n",
      "Final loss value: \t tensor(0.0687)\n",
      "\n",
      "\n",
      " Random Search process took 66279 seconds\n",
      "\n",
      "\n",
      "Best combination of training params is (0.3529013520654095, 0.0008355241637539457, 0.009641747278517819)\n"
     ]
    }
   ],
   "source": [
    "# Define a loss function\n",
    "loss_fn = torch.nn.MSELoss()\n",
    "\n",
    "# generate combinations of paramereters and prepare scores array\n",
    "params_combinations = pars_generator.gen_values(30)\n",
    "all_scores = np.zeros(len(params_combinations))\n",
    "\n",
    "# other params for training\n",
    "encoded_space_dim = 4\n",
    "num_epochs = 60\n",
    "best_score = 1000000 #arbitrary big number\n",
    "\n",
    "\n",
    "\n",
    "####### RANDOM SEARCH #######\n",
    "print('Starting Random Search process')\n",
    "start = time.time()\n",
    "\n",
    "for i in range(len(params_combinations)):\n",
    "    \n",
    "    # Extact params\n",
    "    dropout, lr, L2_decay = params_combinations[i]\n",
    "    \n",
    "    # Generate the network\n",
    "    net = Autoencoder(encoded_space_dim, device, dropout)\n",
    "    net.to(device)\n",
    "\n",
    "    # Define an optimizer\n",
    "    optim = torch.optim.Adam(net.parameters(), lr=lr, weight_decay=L2_decay)\n",
    "\n",
    "    ### Train the model\n",
    "    for epoch in range(num_epochs):\n",
    "        net.train_epoch(train_dataloader, loss_fn, optim) \n",
    "\n",
    "    # Compute final validation loss\n",
    "    test_loss = net.test_epoch(test_dataloader, loss_fn)\n",
    "    \n",
    "    # Print and store final loss value\n",
    "    all_scores[i] = test_loss\n",
    "    print('\\nNetwork trained with: Dropout =',dropout,', lr =',lr,', L2_decay =',L2_decay)\n",
    "    print('Final loss value: \\t', test_loss)\n",
    "    \n",
    "    # If this is the best score, keep model as the best one\n",
    "    if test_loss < best_score:\n",
    "        best_net = net\n",
    "        best_score = test_loss\n",
    "        \n",
    "\n",
    "    \n",
    "# Print time needed to complete Random Search\n",
    "finish = time.time()\n",
    "print('\\n\\n Random Search process took', int(finish-start), 'seconds')\n",
    "\n",
    "# Sort scores from best to worst and the combinations accordingly\n",
    "sorted_scores, sorted_params = zip(*sorted(zip(all_scores, params_combinations),reverse=True))\n",
    "print('\\n\\nBest combination of training params is', sorted_params[0])\n",
    "\n",
    "# Store Best Network weights       \n",
    "torch.save(net.state_dict(), 'best_net_params_4.pth')\n",
    "\n",
    "# Save the sorted scores and params combinations in 2 files\n",
    "with open('sorted_scores.dat', 'w') as f:\n",
    "    for item in sorted_scores:\n",
    "        f.write(\"%s\\n\" % item)\n",
    "        \n",
    "with open('sorted_params.dat', 'w') as f:\n",
    "    for item in sorted_params:\n",
    "        f.write(\"%s,%s,%s\\n\" % item)"
   ]
  },
  {
   "cell_type": "markdown",
   "metadata": {},
   "source": [
    "### Full training with best learning parameters\n",
    "Now After finding the bet combination of hyperparameters to train the network, retrain it with more epochs too obtain the \"final\" model."
   ]
  },
  {
   "cell_type": "code",
   "execution_count": 4,
   "metadata": {
    "scrolled": true
   },
   "outputs": [
    {
     "name": "stdout",
     "output_type": "stream",
     "text": [
      "VALIDATION - EPOCH 1/150 - loss: 0.098211\n",
      "VALIDATION - EPOCH 2/150 - loss: 0.069391\n",
      "VALIDATION - EPOCH 3/150 - loss: 0.065242\n",
      "VALIDATION - EPOCH 4/150 - loss: 0.062133\n",
      "VALIDATION - EPOCH 5/150 - loss: 0.060458\n",
      "VALIDATION - EPOCH 6/150 - loss: 0.056177\n",
      "VALIDATION - EPOCH 7/150 - loss: 0.051601\n",
      "VALIDATION - EPOCH 8/150 - loss: 0.048040\n",
      "VALIDATION - EPOCH 9/150 - loss: 0.045330\n",
      "VALIDATION - EPOCH 10/150 - loss: 0.043488\n",
      "VALIDATION - EPOCH 11/150 - loss: 0.041974\n",
      "VALIDATION - EPOCH 12/150 - loss: 0.040880\n",
      "VALIDATION - EPOCH 13/150 - loss: 0.039920\n",
      "VALIDATION - EPOCH 14/150 - loss: 0.039238\n",
      "VALIDATION - EPOCH 15/150 - loss: 0.038458\n",
      "VALIDATION - EPOCH 16/150 - loss: 0.038009\n",
      "VALIDATION - EPOCH 17/150 - loss: 0.037414\n",
      "VALIDATION - EPOCH 18/150 - loss: 0.036989\n",
      "VALIDATION - EPOCH 19/150 - loss: 0.036539\n",
      "VALIDATION - EPOCH 20/150 - loss: 0.036281\n",
      "VALIDATION - EPOCH 21/150 - loss: 0.035917\n",
      "VALIDATION - EPOCH 22/150 - loss: 0.035528\n",
      "VALIDATION - EPOCH 23/150 - loss: 0.035188\n",
      "VALIDATION - EPOCH 24/150 - loss: 0.034860\n",
      "VALIDATION - EPOCH 25/150 - loss: 0.034662\n",
      "VALIDATION - EPOCH 26/150 - loss: 0.034477\n",
      "VALIDATION - EPOCH 27/150 - loss: 0.034234\n",
      "VALIDATION - EPOCH 28/150 - loss: 0.034036\n",
      "VALIDATION - EPOCH 29/150 - loss: 0.033854\n",
      "VALIDATION - EPOCH 30/150 - loss: 0.033732\n",
      "VALIDATION - EPOCH 31/150 - loss: 0.033540\n",
      "VALIDATION - EPOCH 32/150 - loss: 0.033301\n",
      "VALIDATION - EPOCH 33/150 - loss: 0.033242\n",
      "VALIDATION - EPOCH 34/150 - loss: 0.033069\n",
      "VALIDATION - EPOCH 35/150 - loss: 0.033046\n",
      "VALIDATION - EPOCH 36/150 - loss: 0.032835\n",
      "VALIDATION - EPOCH 37/150 - loss: 0.032765\n",
      "VALIDATION - EPOCH 38/150 - loss: 0.032648\n",
      "VALIDATION - EPOCH 39/150 - loss: 0.032563\n",
      "VALIDATION - EPOCH 40/150 - loss: 0.032488\n",
      "VALIDATION - EPOCH 41/150 - loss: 0.032392\n",
      "VALIDATION - EPOCH 42/150 - loss: 0.032348\n",
      "VALIDATION - EPOCH 43/150 - loss: 0.032172\n",
      "VALIDATION - EPOCH 44/150 - loss: 0.032165\n",
      "VALIDATION - EPOCH 45/150 - loss: 0.031957\n",
      "VALIDATION - EPOCH 46/150 - loss: 0.032000\n",
      "VALIDATION - EPOCH 47/150 - loss: 0.032003\n",
      "VALIDATION - EPOCH 48/150 - loss: 0.031850\n",
      "VALIDATION - EPOCH 49/150 - loss: 0.031896\n",
      "VALIDATION - EPOCH 50/150 - loss: 0.031759\n",
      "VALIDATION - EPOCH 51/150 - loss: 0.031706\n",
      "VALIDATION - EPOCH 52/150 - loss: 0.031606\n",
      "VALIDATION - EPOCH 53/150 - loss: 0.031572\n",
      "VALIDATION - EPOCH 54/150 - loss: 0.031566\n",
      "VALIDATION - EPOCH 55/150 - loss: 0.031568\n",
      "VALIDATION - EPOCH 56/150 - loss: 0.031473\n",
      "VALIDATION - EPOCH 57/150 - loss: 0.031437\n",
      "VALIDATION - EPOCH 58/150 - loss: 0.031451\n",
      "VALIDATION - EPOCH 59/150 - loss: 0.031457\n",
      "VALIDATION - EPOCH 60/150 - loss: 0.031251\n",
      "VALIDATION - EPOCH 61/150 - loss: 0.031250\n",
      "VALIDATION - EPOCH 62/150 - loss: 0.031219\n",
      "VALIDATION - EPOCH 63/150 - loss: 0.031220\n",
      "VALIDATION - EPOCH 64/150 - loss: 0.031084\n",
      "VALIDATION - EPOCH 65/150 - loss: 0.031163\n",
      "VALIDATION - EPOCH 66/150 - loss: 0.031088\n",
      "VALIDATION - EPOCH 67/150 - loss: 0.031146\n",
      "VALIDATION - EPOCH 68/150 - loss: 0.031117\n",
      "VALIDATION - EPOCH 69/150 - loss: 0.031015\n",
      "VALIDATION - EPOCH 70/150 - loss: 0.030963\n",
      "VALIDATION - EPOCH 71/150 - loss: 0.030882\n",
      "VALIDATION - EPOCH 72/150 - loss: 0.030958\n",
      "VALIDATION - EPOCH 73/150 - loss: 0.030869\n",
      "VALIDATION - EPOCH 74/150 - loss: 0.030885\n",
      "VALIDATION - EPOCH 75/150 - loss: 0.030949\n",
      "VALIDATION - EPOCH 76/150 - loss: 0.030828\n",
      "VALIDATION - EPOCH 77/150 - loss: 0.030762\n",
      "VALIDATION - EPOCH 78/150 - loss: 0.030791\n",
      "VALIDATION - EPOCH 79/150 - loss: 0.030790\n",
      "VALIDATION - EPOCH 80/150 - loss: 0.030751\n",
      "VALIDATION - EPOCH 81/150 - loss: 0.030702\n",
      "VALIDATION - EPOCH 82/150 - loss: 0.030733\n",
      "VALIDATION - EPOCH 83/150 - loss: 0.030604\n",
      "VALIDATION - EPOCH 84/150 - loss: 0.030609\n",
      "VALIDATION - EPOCH 85/150 - loss: 0.030616\n",
      "VALIDATION - EPOCH 86/150 - loss: 0.030631\n",
      "VALIDATION - EPOCH 87/150 - loss: 0.030650\n",
      "VALIDATION - EPOCH 88/150 - loss: 0.030648\n",
      "VALIDATION - EPOCH 89/150 - loss: 0.030584\n",
      "VALIDATION - EPOCH 90/150 - loss: 0.030485\n",
      "VALIDATION - EPOCH 91/150 - loss: 0.030526\n",
      "VALIDATION - EPOCH 92/150 - loss: 0.030455\n",
      "VALIDATION - EPOCH 93/150 - loss: 0.030439\n",
      "VALIDATION - EPOCH 94/150 - loss: 0.030385\n",
      "VALIDATION - EPOCH 95/150 - loss: 0.030495\n",
      "VALIDATION - EPOCH 96/150 - loss: 0.030495\n",
      "VALIDATION - EPOCH 97/150 - loss: 0.030514\n",
      "VALIDATION - EPOCH 98/150 - loss: 0.030394\n",
      "VALIDATION - EPOCH 99/150 - loss: 0.030375\n",
      "VALIDATION - EPOCH 100/150 - loss: 0.030339\n",
      "VALIDATION - EPOCH 101/150 - loss: 0.030375\n",
      "VALIDATION - EPOCH 102/150 - loss: 0.030312\n",
      "VALIDATION - EPOCH 103/150 - loss: 0.030430\n",
      "VALIDATION - EPOCH 104/150 - loss: 0.030331\n",
      "VALIDATION - EPOCH 105/150 - loss: 0.030236\n",
      "VALIDATION - EPOCH 106/150 - loss: 0.030320\n",
      "VALIDATION - EPOCH 107/150 - loss: 0.030264\n",
      "VALIDATION - EPOCH 108/150 - loss: 0.030253\n",
      "VALIDATION - EPOCH 109/150 - loss: 0.030248\n",
      "VALIDATION - EPOCH 110/150 - loss: 0.030129\n",
      "VALIDATION - EPOCH 111/150 - loss: 0.030199\n",
      "VALIDATION - EPOCH 112/150 - loss: 0.030154\n",
      "VALIDATION - EPOCH 113/150 - loss: 0.030139\n",
      "VALIDATION - EPOCH 114/150 - loss: 0.030161\n",
      "VALIDATION - EPOCH 115/150 - loss: 0.030240\n",
      "VALIDATION - EPOCH 116/150 - loss: 0.030157\n",
      "VALIDATION - EPOCH 117/150 - loss: 0.030099\n",
      "VALIDATION - EPOCH 118/150 - loss: 0.030094\n",
      "VALIDATION - EPOCH 119/150 - loss: 0.030160\n",
      "VALIDATION - EPOCH 120/150 - loss: 0.030141\n",
      "VALIDATION - EPOCH 121/150 - loss: 0.030111\n",
      "VALIDATION - EPOCH 122/150 - loss: 0.030175\n",
      "VALIDATION - EPOCH 123/150 - loss: 0.030133\n",
      "VALIDATION - EPOCH 124/150 - loss: 0.030088\n",
      "VALIDATION - EPOCH 125/150 - loss: 0.030100\n",
      "VALIDATION - EPOCH 126/150 - loss: 0.030100\n",
      "VALIDATION - EPOCH 127/150 - loss: 0.030076\n",
      "VALIDATION - EPOCH 128/150 - loss: 0.030069\n",
      "VALIDATION - EPOCH 129/150 - loss: 0.030146\n",
      "VALIDATION - EPOCH 130/150 - loss: 0.030044\n",
      "VALIDATION - EPOCH 131/150 - loss: 0.030021\n",
      "VALIDATION - EPOCH 132/150 - loss: 0.029946\n",
      "VALIDATION - EPOCH 133/150 - loss: 0.030000\n",
      "VALIDATION - EPOCH 134/150 - loss: 0.030043\n",
      "VALIDATION - EPOCH 135/150 - loss: 0.030010\n",
      "VALIDATION - EPOCH 136/150 - loss: 0.030055\n",
      "VALIDATION - EPOCH 137/150 - loss: 0.029990\n",
      "VALIDATION - EPOCH 138/150 - loss: 0.030006\n",
      "VALIDATION - EPOCH 139/150 - loss: 0.030079\n",
      "VALIDATION - EPOCH 140/150 - loss: 0.029920\n",
      "VALIDATION - EPOCH 141/150 - loss: 0.029964\n",
      "VALIDATION - EPOCH 142/150 - loss: 0.030052\n",
      "VALIDATION - EPOCH 143/150 - loss: 0.029983\n",
      "VALIDATION - EPOCH 144/150 - loss: 0.029950\n",
      "VALIDATION - EPOCH 145/150 - loss: 0.029912\n",
      "VALIDATION - EPOCH 146/150 - loss: 0.029957\n",
      "VALIDATION - EPOCH 147/150 - loss: 0.029914\n",
      "VALIDATION - EPOCH 148/150 - loss: 0.029939\n",
      "VALIDATION - EPOCH 149/150 - loss: 0.029915\n",
      "VALIDATION - EPOCH 150/150 - loss: 0.029959\n"
     ]
    }
   ],
   "source": [
    "# Take best params from above\n",
    "dropout, lr, L2_decay = best_params\n",
    "\n",
    "# Generate the network\n",
    "encoded_space_dim = 4\n",
    "net = Autoencoder(encoded_space_dim, device, dropout)\n",
    "net.to(device)\n",
    "\n",
    "# Define a loss function\n",
    "loss_fn = torch.nn.MSELoss()\n",
    "# Define an optimizer\n",
    "optim = torch.optim.Adam(net.parameters(), lr=lr, weight_decay=L2_decay)\n",
    "\n",
    "\n",
    "### Train the model\n",
    "num_epochs = 150\n",
    "val_losses = []\n",
    "for epoch in range(num_epochs):\n",
    "    \n",
    "    ### Training\n",
    "    net.train_epoch(train_dataloader, loss_fn, optim) \n",
    "\n",
    "    ### Validation\n",
    "    val_loss = net.test_epoch(test_dataloader, loss_fn)\n",
    "    val_losses.append(val_loss)\n",
    "    # Print Validation loss\n",
    "    print('VALIDATION - EPOCH %d/%d - loss: %f' % (epoch + 1, num_epochs, val_loss))\n",
    "\n",
    "### Save trained model as the best one\n",
    "torch.save(net.state_dict(), 'best_net_params_4.pth')"
   ]
  },
  {
   "cell_type": "code",
   "execution_count": 5,
   "metadata": {},
   "outputs": [
    {
     "data": {
      "image/png": "[encoded data removed]",
      "text/plain": [
       "<Figure size 432x288 with 1 Axes>"
      ]
     },
     "metadata": {
      "needs_background": "light"
     },
     "output_type": "display_data"
    }
   ],
   "source": [
    "# Plot losses\n",
    "plt.close('all')\n",
    "plt.plot(val_losses, label='Validation Loss')\n",
    "plt.xlabel('Epoch')\n",
    "plt.ylabel('Loss')\n",
    "#plt.yscale('log')\n",
    "plt.grid()\n",
    "plt.legend()\n",
    "plt.show()"
   ]
  },
  {
   "cell_type": "code",
   "execution_count": null,
   "metadata": {},
   "outputs": [],
   "source": [
    "# If training was done in the past, you can load the trained network\n",
    "net = Autoencoder(4, device)\n",
    "net.load_state_dict(torch.load('best_net_params_4.pth', map_location=device))\n",
    "net.to(device)"
   ]
  },
  {
   "cell_type": "markdown",
   "metadata": {},
   "source": [
    "### Performance for different sizes of the hidden layer\n",
    "Now we will use the `best_params` find before to train networks with different sizes of the hidden layer (we will go from 1 to 10) to check how this will impact the performances."
   ]
  },
  {
   "cell_type": "code",
   "execution_count": 3,
   "metadata": {},
   "outputs": [
    {
     "name": "stdout",
     "output_type": "stream",
     "text": [
      "Network with 1 hidden neurons: final loss = 0.05010481923818588\n",
      "Network with 2 hidden neurons: final loss = 0.04178829863667488\n",
      "Network with 3 hidden neurons: final loss = 0.03514166548848152\n",
      "Network with 4 hidden neurons: final loss = 0.0313800610601902\n",
      "Network with 5 hidden neurons: final loss = 0.02765795961022377\n",
      "Network with 6 hidden neurons: final loss = 0.025422142818570137\n",
      "Network with 7 hidden neurons: final loss = 0.023557977750897408\n",
      "Network with 8 hidden neurons: final loss = 0.02218167670071125\n",
      "Network with 9 hidden neurons: final loss = 0.021405309438705444\n",
      "Network with 10 hidden neurons: final loss = 0.021026812493801117\n"
     ]
    }
   ],
   "source": [
    "# Take best training params \n",
    "dropout, lr, L2_decay = best_params\n",
    "num_epochs = 80\n",
    "\n",
    "# Define loss function\n",
    "loss_fn = torch.nn.MSELoss()\n",
    "\n",
    "# Prepare array that will contain the final losses for each architecture \n",
    "final_losses = np.zeros(10)\n",
    "\n",
    "\n",
    "for hidden_size in range(1,11):\n",
    "    \n",
    "    # Generate the network\n",
    "    net = Autoencoder(hidden_size, device, dropout)\n",
    "    net.to(device)\n",
    "\n",
    "    # Define an optimizer\n",
    "    optim = torch.optim.Adam(net.parameters(), lr=lr, weight_decay=L2_decay)\n",
    "\n",
    "    ### Train the model\n",
    "    for epoch in range(num_epochs):\n",
    "        net.train_epoch(train_dataloader, loss_fn, optim) \n",
    "\n",
    "    # Compute final validation loss\n",
    "    test_loss = net.test_epoch(test_dataloader, loss_fn) \n",
    "    final_losses[hidden_size-1] = test_loss \n",
    "    print('Network with',hidden_size,'hidden neurons: final loss =',final_losses[hidden_size-1])\n",
    "    \n",
    "    \n",
    "# Save the final loss values for each size\n",
    "with open('loss_vs_hidden_size.dat', 'w') as f:\n",
    "    for item in final_losses:\n",
    "        f.write(\"%s\\n\" % item)"
   ]
  },
  {
   "cell_type": "code",
   "execution_count": 3,
   "metadata": {
    "scrolled": true
   },
   "outputs": [
    {
     "data": {
      "image/png": "[encoded data removed]",
      "text/plain": [
       "<Figure size 432x288 with 1 Axes>"
      ]
     },
     "metadata": {
      "needs_background": "light"
     },
     "output_type": "display_data"
    }
   ],
   "source": [
    "# Plot losses\n",
    "plt.close('all')\n",
    "plt.plot(final_losses, label='Final loss values')\n",
    "plt.xlabel('Size of the hidden layer')\n",
    "plt.ylabel('Loss')\n",
    "#plt.yscale('log')\n",
    "plt.grid()\n",
    "plt.legend()\n",
    "plt.show()"
   ]
  },
  {
   "cell_type": "markdown",
   "metadata": {},
   "source": [
    "### Test model with corrupted data\n",
    "Use the testing tools (defined in the corresponding python script) to see how the model reconstruct corrupted data"
   ]
  },
  {
   "cell_type": "code",
   "execution_count": 4,
   "metadata": {
    "collapsed": true
   },
   "outputs": [
    {
     "data": {
      "text/plain": [
       "Autoencoder(\n",
       "  (encoder_cnn): Sequential(\n",
       "    (0): Conv2d(1, 8, kernel_size=(3, 3), stride=(2, 2), padding=(1, 1))\n",
       "    (1): Dropout(p=0, inplace=False)\n",
       "    (2): ReLU(inplace=True)\n",
       "    (3): Conv2d(8, 16, kernel_size=(3, 3), stride=(2, 2), padding=(1, 1))\n",
       "    (4): Dropout(p=0, inplace=False)\n",
       "    (5): ReLU(inplace=True)\n",
       "    (6): Conv2d(16, 32, kernel_size=(3, 3), stride=(2, 2))\n",
       "    (7): Dropout(p=0, inplace=False)\n",
       "    (8): ReLU(inplace=True)\n",
       "  )\n",
       "  (encoder_lin): Sequential(\n",
       "    (0): Linear(in_features=288, out_features=64, bias=True)\n",
       "    (1): Dropout(p=0, inplace=False)\n",
       "    (2): ReLU(inplace=True)\n",
       "    (3): Linear(in_features=64, out_features=4, bias=True)\n",
       "  )\n",
       "  (decoder_lin): Sequential(\n",
       "    (0): Linear(in_features=4, out_features=64, bias=True)\n",
       "    (1): Dropout(p=0, inplace=False)\n",
       "    (2): ReLU(inplace=True)\n",
       "    (3): Linear(in_features=64, out_features=288, bias=True)\n",
       "    (4): Dropout(p=0, inplace=False)\n",
       "    (5): ReLU(inplace=True)\n",
       "  )\n",
       "  (decoder_conv): Sequential(\n",
       "    (0): ConvTranspose2d(32, 16, kernel_size=(3, 3), stride=(2, 2))\n",
       "    (1): Dropout(p=0, inplace=False)\n",
       "    (2): ReLU(inplace=True)\n",
       "    (3): ConvTranspose2d(16, 8, kernel_size=(3, 3), stride=(2, 2), padding=(1, 1), output_padding=(1, 1))\n",
       "    (4): Dropout(p=0, inplace=False)\n",
       "    (5): ReLU(inplace=True)\n",
       "    (6): ConvTranspose2d(8, 1, kernel_size=(3, 3), stride=(2, 2), padding=(1, 1), output_padding=(1, 1))\n",
       "  )\n",
       ")"
      ]
     },
     "execution_count": 4,
     "metadata": {},
     "output_type": "execute_result"
    }
   ],
   "source": [
    "# If network is not loaded, load it\n",
    "net = Autoencoder(4, device)\n",
    "net.load_state_dict(torch.load('best_net_params_4.pth', map_location=device))\n",
    "net.to(device)"
   ]
  },
  {
   "cell_type": "code",
   "execution_count": 5,
   "metadata": {},
   "outputs": [],
   "source": [
    "# Generate the corrupted datasets\n",
    "noise_data = corrupt_data.Gauss_noised_dataset(test_dataset, std_noise = 0.2)\n",
    "obscure_data = corrupt_data.Obscured_dataset(test_dataset, square_size = 10)"
   ]
  },
  {
   "cell_type": "code",
   "execution_count": 9,
   "metadata": {},
   "outputs": [
    {
     "data": {
      "image/png": "[encoded data removed]",
      "text/plain": [
       "<Figure size 864x432 with 2 Axes>"
      ]
     },
     "metadata": {
      "needs_background": "light"
     },
     "output_type": "display_data"
    },
    {
     "data": {
      "image/png": "[encoded data removed]",
      "text/plain": [
       "<Figure size 864x432 with 2 Axes>"
      ]
     },
     "metadata": {
      "needs_background": "light"
     },
     "output_type": "display_data"
    }
   ],
   "source": [
    "### GAUSSIAN NOISE ###\n",
    "# Plot one sample next to the reconstructed one\n",
    "testing_tools.plot_comparison(net, noise_data[21])\n",
    "testing_tools.plot_comparison(net, noise_data[19])"
   ]
  },
  {
   "cell_type": "code",
   "execution_count": 69,
   "metadata": {},
   "outputs": [
    {
     "name": "stdout",
     "output_type": "stream",
     "text": [
      "The following number is a 0\n"
     ]
    },
    {
     "data": {
      "image/png": "[encoded data removed]",
      "text/plain": [
       "<Figure size 864x432 with 2 Axes>"
      ]
     },
     "metadata": {
      "needs_background": "light"
     },
     "output_type": "display_data"
    },
    {
     "name": "stdout",
     "output_type": "stream",
     "text": [
      "The following number is a 9\n"
     ]
    },
    {
     "data": {
      "image/png": "[encoded data removed]",
      "text/plain": [
       "<Figure size 864x432 with 2 Axes>"
      ]
     },
     "metadata": {
      "needs_background": "light"
     },
     "output_type": "display_data"
    }
   ],
   "source": [
    "### OCCLUSION ###\n",
    "# Plot one sample next to the reconstructed one\n",
    "idx_1=13\n",
    "print('The following number is a', obscure_data[idx_1][1])\n",
    "testing_tools.plot_comparison(net, obscure_data[idx_1])\n",
    "\n",
    "idx_2=9\n",
    "print('The following number is a', obscure_data[idx_2][1])\n",
    "testing_tools.plot_comparison(net, obscure_data[idx_2])"
   ]
  },
  {
   "cell_type": "markdown",
   "metadata": {},
   "source": [
    "### Train Denoising autoencoder\n",
    "In order to train a denoising autoencoder, we need to build a new dataset containing both the original and the corrupted data. In this way the Dataloader will build samples containing both versions of each image."
   ]
  },
  {
   "cell_type": "code",
   "execution_count": 3,
   "metadata": {},
   "outputs": [],
   "source": [
    "class combined_dataset(Dataset):\n",
    "    \n",
    "    # Initialize the dataset\n",
    "    def __init__(self, orig_data, std_noise=0.2):\n",
    "        \n",
    "        # Generate corrupted dataset\n",
    "        noised_data = corrupt_data.Gauss_noised_dataset(orig_data, std_noise)\n",
    "        \n",
    "        # Store datasets\n",
    "        self.orig_dataset = orig_data        \n",
    "        self.noised_dataset = noised_data\n",
    "        \n",
    "        \n",
    "    # This function returns the noised sample, the original one and the label\n",
    "    def __getitem__(self, idx):\n",
    "              \n",
    "        noised_image = self.noised_dataset[idx][0]\n",
    "        orig_image = self.orig_dataset[idx][0]  \n",
    "        label = self.orig_dataset[idx][1]\n",
    "        return (noised_image, orig_image, label)\n",
    "    \n",
    "    # Function that defines the length of the dataset\n",
    "    def __len__(self):\n",
    "        return len(self.orig_dataset)\n",
    "\n",
    "    \n",
    "# Initialize Datasets and their dataloaders\n",
    "combined_train_dataset = combined_dataset(train_dataset)\n",
    "combined_test_dataset = combined_dataset(test_dataset)\n",
    "combined_train_dataloader = DataLoader(combined_train_dataset, batch_size=512, shuffle=True)\n",
    "combined_test_dataloader = DataLoader(combined_test_dataset, batch_size=512, shuffle=False)"
   ]
  },
  {
   "cell_type": "code",
   "execution_count": 4,
   "metadata": {
    "scrolled": true
   },
   "outputs": [
    {
     "name": "stdout",
     "output_type": "stream",
     "text": [
      "VALIDATION - EPOCH 1/100 - loss: 0.098396\n",
      "VALIDATION - EPOCH 2/100 - loss: 0.069818\n",
      "VALIDATION - EPOCH 3/100 - loss: 0.066367\n",
      "VALIDATION - EPOCH 4/100 - loss: 0.063282\n",
      "VALIDATION - EPOCH 5/100 - loss: 0.062041\n",
      "VALIDATION - EPOCH 6/100 - loss: 0.060828\n",
      "VALIDATION - EPOCH 7/100 - loss: 0.056557\n",
      "VALIDATION - EPOCH 8/100 - loss: 0.051441\n",
      "VALIDATION - EPOCH 9/100 - loss: 0.048549\n",
      "VALIDATION - EPOCH 10/100 - loss: 0.046692\n",
      "VALIDATION - EPOCH 11/100 - loss: 0.045123\n",
      "VALIDATION - EPOCH 12/100 - loss: 0.043709\n",
      "VALIDATION - EPOCH 13/100 - loss: 0.042321\n",
      "VALIDATION - EPOCH 14/100 - loss: 0.041226\n",
      "VALIDATION - EPOCH 15/100 - loss: 0.040325\n",
      "VALIDATION - EPOCH 16/100 - loss: 0.039684\n",
      "VALIDATION - EPOCH 17/100 - loss: 0.039000\n",
      "VALIDATION - EPOCH 18/100 - loss: 0.038481\n",
      "VALIDATION - EPOCH 19/100 - loss: 0.037744\n",
      "VALIDATION - EPOCH 20/100 - loss: 0.037187\n",
      "VALIDATION - EPOCH 21/100 - loss: 0.036706\n",
      "VALIDATION - EPOCH 22/100 - loss: 0.036291\n",
      "VALIDATION - EPOCH 23/100 - loss: 0.035911\n",
      "VALIDATION - EPOCH 24/100 - loss: 0.035512\n",
      "VALIDATION - EPOCH 25/100 - loss: 0.035182\n",
      "VALIDATION - EPOCH 26/100 - loss: 0.034925\n",
      "VALIDATION - EPOCH 27/100 - loss: 0.034617\n",
      "VALIDATION - EPOCH 28/100 - loss: 0.034386\n",
      "VALIDATION - EPOCH 29/100 - loss: 0.034204\n",
      "VALIDATION - EPOCH 30/100 - loss: 0.033991\n",
      "VALIDATION - EPOCH 31/100 - loss: 0.033828\n",
      "VALIDATION - EPOCH 32/100 - loss: 0.033663\n",
      "VALIDATION - EPOCH 33/100 - loss: 0.033401\n",
      "VALIDATION - EPOCH 34/100 - loss: 0.033397\n",
      "VALIDATION - EPOCH 35/100 - loss: 0.033232\n",
      "VALIDATION - EPOCH 36/100 - loss: 0.033102\n",
      "VALIDATION - EPOCH 37/100 - loss: 0.033003\n",
      "VALIDATION - EPOCH 38/100 - loss: 0.032842\n",
      "VALIDATION - EPOCH 39/100 - loss: 0.032765\n",
      "VALIDATION - EPOCH 40/100 - loss: 0.032655\n",
      "VALIDATION - EPOCH 41/100 - loss: 0.032582\n",
      "VALIDATION - EPOCH 42/100 - loss: 0.032546\n",
      "VALIDATION - EPOCH 43/100 - loss: 0.032421\n",
      "VALIDATION - EPOCH 44/100 - loss: 0.032308\n",
      "VALIDATION - EPOCH 45/100 - loss: 0.032354\n",
      "VALIDATION - EPOCH 46/100 - loss: 0.032219\n",
      "VALIDATION - EPOCH 47/100 - loss: 0.032107\n",
      "VALIDATION - EPOCH 48/100 - loss: 0.032030\n",
      "VALIDATION - EPOCH 49/100 - loss: 0.032072\n",
      "VALIDATION - EPOCH 50/100 - loss: 0.031956\n",
      "VALIDATION - EPOCH 51/100 - loss: 0.031940\n",
      "VALIDATION - EPOCH 52/100 - loss: 0.031845\n",
      "VALIDATION - EPOCH 53/100 - loss: 0.031776\n",
      "VALIDATION - EPOCH 54/100 - loss: 0.031723\n",
      "VALIDATION - EPOCH 55/100 - loss: 0.031738\n",
      "VALIDATION - EPOCH 56/100 - loss: 0.031682\n",
      "VALIDATION - EPOCH 57/100 - loss: 0.031573\n",
      "VALIDATION - EPOCH 58/100 - loss: 0.031520\n",
      "VALIDATION - EPOCH 59/100 - loss: 0.031498\n",
      "VALIDATION - EPOCH 60/100 - loss: 0.031516\n",
      "VALIDATION - EPOCH 61/100 - loss: 0.031402\n",
      "VALIDATION - EPOCH 62/100 - loss: 0.031394\n",
      "VALIDATION - EPOCH 63/100 - loss: 0.031354\n",
      "VALIDATION - EPOCH 64/100 - loss: 0.031396\n",
      "VALIDATION - EPOCH 65/100 - loss: 0.031248\n",
      "VALIDATION - EPOCH 66/100 - loss: 0.031285\n",
      "VALIDATION - EPOCH 67/100 - loss: 0.031200\n",
      "VALIDATION - EPOCH 68/100 - loss: 0.031194\n",
      "VALIDATION - EPOCH 69/100 - loss: 0.031197\n",
      "VALIDATION - EPOCH 70/100 - loss: 0.031136\n",
      "VALIDATION - EPOCH 71/100 - loss: 0.031130\n",
      "VALIDATION - EPOCH 72/100 - loss: 0.031151\n",
      "VALIDATION - EPOCH 73/100 - loss: 0.031021\n",
      "VALIDATION - EPOCH 74/100 - loss: 0.031098\n",
      "VALIDATION - EPOCH 75/100 - loss: 0.031047\n",
      "VALIDATION - EPOCH 76/100 - loss: 0.030903\n",
      "VALIDATION - EPOCH 77/100 - loss: 0.030869\n",
      "VALIDATION - EPOCH 78/100 - loss: 0.030905\n",
      "VALIDATION - EPOCH 79/100 - loss: 0.030830\n",
      "VALIDATION - EPOCH 80/100 - loss: 0.030795\n",
      "VALIDATION - EPOCH 81/100 - loss: 0.030855\n",
      "VALIDATION - EPOCH 82/100 - loss: 0.030790\n",
      "VALIDATION - EPOCH 83/100 - loss: 0.030810\n",
      "VALIDATION - EPOCH 84/100 - loss: 0.030728\n",
      "VALIDATION - EPOCH 85/100 - loss: 0.030857\n",
      "VALIDATION - EPOCH 86/100 - loss: 0.030758\n",
      "VALIDATION - EPOCH 87/100 - loss: 0.030703\n",
      "VALIDATION - EPOCH 88/100 - loss: 0.030713\n",
      "VALIDATION - EPOCH 89/100 - loss: 0.030693\n",
      "VALIDATION - EPOCH 90/100 - loss: 0.030710\n",
      "VALIDATION - EPOCH 91/100 - loss: 0.030640\n",
      "VALIDATION - EPOCH 92/100 - loss: 0.030616\n",
      "VALIDATION - EPOCH 93/100 - loss: 0.030628\n",
      "VALIDATION - EPOCH 94/100 - loss: 0.030652\n",
      "VALIDATION - EPOCH 95/100 - loss: 0.030623\n",
      "VALIDATION - EPOCH 96/100 - loss: 0.030586\n",
      "VALIDATION - EPOCH 97/100 - loss: 0.030565\n",
      "VALIDATION - EPOCH 98/100 - loss: 0.030512\n",
      "VALIDATION - EPOCH 99/100 - loss: 0.030494\n",
      "VALIDATION - EPOCH 100/100 - loss: 0.030541\n"
     ]
    }
   ],
   "source": [
    "# Define parameters\n",
    "dropout, lr, L2_decay = best_params\n",
    "\n",
    "# Generate the network\n",
    "encoded_space_dim = 4\n",
    "net = Autoencoder(encoded_space_dim, device, dropout)\n",
    "net.to(device)\n",
    "\n",
    "# Define a loss function\n",
    "loss_fn = torch.nn.MSELoss()\n",
    "# Define an optimizer\n",
    "optim = torch.optim.Adam(net.parameters(), lr=lr, weight_decay=L2_decay)\n",
    "\n",
    "num_epochs = 100\n",
    "\n",
    "### TRAIN THE NETWORK\n",
    "\n",
    "for epoch in range(num_epochs):\n",
    "\n",
    "    ### Training\n",
    "    net.train_epoch(combined_train_dataloader, loss_fn, optim, denoise_mode=True) \n",
    "\n",
    "    ### Validation\n",
    "    val_loss = net.test_epoch(combined_test_dataloader, loss_fn, denoise_mode=True) \n",
    "    # Print Validation loss\n",
    "    print('VALIDATION - EPOCH %d/%d - loss: %f' % (epoch + 1, num_epochs, val_loss))\n",
    "    \n",
    "    \n",
    "### Save trained denoised model\n",
    "torch.save(net.state_dict(), 'denoise_model_4.pth')"
   ]
  },
  {
   "cell_type": "code",
   "execution_count": 59,
   "metadata": {},
   "outputs": [
    {
     "data": {
      "image/png": "[encoded data removed]",
      "text/plain": [
       "<Figure size 864x432 with 2 Axes>"
      ]
     },
     "metadata": {
      "needs_background": "light"
     },
     "output_type": "display_data"
    }
   ],
   "source": [
    "# Check how the new model denoise data by plotting the filtered samples\n",
    "idx = 53\n",
    "testing_tools.plot_comparison(net, combined_test_dataset[idx])"
   ]
  },
  {
   "cell_type": "code",
   "execution_count": null,
   "metadata": {},
   "outputs": [],
   "source": [
    "# In case that we want to load the already trained model\n",
    "encoded_space_dim = 4\n",
    "net.load_state_dict(torch.load('denoise_model_4.pth'))\n",
    "net.to(device)"
   ]
  },
  {
   "cell_type": "markdown",
   "metadata": {},
   "source": [
    "### Check smooth sampling from latent space\n",
    "First of all, we should check the distributions of each component of the encodent representation of the data. Then we use the function `testing_tools.morphing_digits_gif()` to build a GIF  of one digits that morphs into another. This is done by computing the centroids of both digits in the encoded space, the function then start decoding from one centroid and 'goes toward' the other following a straight line in the encoded space. By decoding each set of values of the components of the encoded space, we should see how a digit morphs into the other one."
   ]
  },
  {
   "cell_type": "code",
   "execution_count": 3,
   "metadata": {
    "collapsed": true
   },
   "outputs": [
    {
     "data": {
      "text/plain": [
       "Autoencoder(\n",
       "  (encoder_cnn): Sequential(\n",
       "    (0): Conv2d(1, 8, kernel_size=(3, 3), stride=(2, 2), padding=(1, 1))\n",
       "    (1): Dropout(p=0, inplace=False)\n",
       "    (2): ReLU(inplace=True)\n",
       "    (3): Conv2d(8, 16, kernel_size=(3, 3), stride=(2, 2), padding=(1, 1))\n",
       "    (4): Dropout(p=0, inplace=False)\n",
       "    (5): ReLU(inplace=True)\n",
       "    (6): Conv2d(16, 32, kernel_size=(3, 3), stride=(2, 2))\n",
       "    (7): Dropout(p=0, inplace=False)\n",
       "    (8): ReLU(inplace=True)\n",
       "  )\n",
       "  (encoder_lin): Sequential(\n",
       "    (0): Linear(in_features=288, out_features=64, bias=True)\n",
       "    (1): Dropout(p=0, inplace=False)\n",
       "    (2): ReLU(inplace=True)\n",
       "    (3): Linear(in_features=64, out_features=4, bias=True)\n",
       "  )\n",
       "  (decoder_lin): Sequential(\n",
       "    (0): Linear(in_features=4, out_features=64, bias=True)\n",
       "    (1): Dropout(p=0, inplace=False)\n",
       "    (2): ReLU(inplace=True)\n",
       "    (3): Linear(in_features=64, out_features=288, bias=True)\n",
       "    (4): Dropout(p=0, inplace=False)\n",
       "    (5): ReLU(inplace=True)\n",
       "  )\n",
       "  (decoder_conv): Sequential(\n",
       "    (0): ConvTranspose2d(32, 16, kernel_size=(3, 3), stride=(2, 2))\n",
       "    (1): Dropout(p=0, inplace=False)\n",
       "    (2): ReLU(inplace=True)\n",
       "    (3): ConvTranspose2d(16, 8, kernel_size=(3, 3), stride=(2, 2), padding=(1, 1), output_padding=(1, 1))\n",
       "    (4): Dropout(p=0, inplace=False)\n",
       "    (5): ReLU(inplace=True)\n",
       "    (6): ConvTranspose2d(8, 1, kernel_size=(3, 3), stride=(2, 2), padding=(1, 1), output_padding=(1, 1))\n",
       "  )\n",
       ")"
      ]
     },
     "execution_count": 3,
     "metadata": {},
     "output_type": "execute_result"
    }
   ],
   "source": [
    "# If network is not loaded, load it\n",
    "net = Autoencoder(4, device)\n",
    "net.load_state_dict(torch.load('best_net_params_4.pth', map_location=device))\n",
    "net.to(device)"
   ]
  },
  {
   "cell_type": "code",
   "execution_count": 4,
   "metadata": {},
   "outputs": [
    {
     "name": "stderr",
     "output_type": "stream",
     "text": [
      "100%|██████████| 10000/10000 [00:09<00:00, 1040.17it/s]\n"
     ]
    }
   ],
   "source": [
    "# Get encoded distribution of the test dataset\n",
    "encoded_images = net.get_enc_representation(test_dataset, return_label=True) "
   ]
  },
  {
   "cell_type": "code",
   "execution_count": 11,
   "metadata": {},
   "outputs": [
    {
     "name": "stdout",
     "output_type": "stream",
     "text": [
      "GIF is stored as results/from_7_to_2_smooth_evol.gif\n"
     ]
    }
   ],
   "source": [
    "# Select starting and ending digits, then build the GIF\n",
    "start_digit = 5\n",
    "end_digit = 1\n",
    "testing_tools.morphing_digits_gif(net, encoded_images, start_digit, end_digit, t_update=0.05)"
   ]
  },
  {
   "cell_type": "code",
   "execution_count": null,
   "metadata": {},
   "outputs": [],
   "source": []
  }
 ],
 "metadata": {
  "kernelspec": {
   "display_name": "Python 3",
   "language": "python",
   "name": "python3"
  },
  "language_info": {
   "codemirror_mode": {
    "name": "ipython",
    "version": 3
   },
   "file_extension": ".py",
   "mimetype": "text/x-python",
   "name": "python",
   "nbconvert_exporter": "python",
   "pygments_lexer": "ipython3",
   "version": "3.7.3"
  }
 },
 "nbformat": 4,
 "nbformat_minor": 2
}
